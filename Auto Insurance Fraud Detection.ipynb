{
 "cells": [
  {
   "cell_type": "code",
   "execution_count": 810,
   "metadata": {},
   "outputs": [
    {
     "name": "stdout",
     "output_type": "stream",
     "text": [
      "Requirement already satisfied: uszipcode in c:\\users\\shahs_pi8a6lu\\anaconda3\\lib\\site-packages (0.2.2)\n",
      "Requirement already satisfied: pathlib-mate in c:\\users\\shahs_pi8a6lu\\anaconda3\\lib\\site-packages (from uszipcode) (0.0.15)\n",
      "Requirement already satisfied: attrs in c:\\users\\shahs_pi8a6lu\\anaconda3\\lib\\site-packages (from uszipcode) (18.2.0)\n",
      "Requirement already satisfied: sqlalchemy in c:\\users\\shahs_pi8a6lu\\anaconda3\\lib\\site-packages (from uszipcode) (1.2.15)\n",
      "Requirement already satisfied: requests in c:\\users\\shahs_pi8a6lu\\anaconda3\\lib\\site-packages (from uszipcode) (2.21.0)\n",
      "Requirement already satisfied: autopep8 in c:\\users\\shahs_pi8a6lu\\anaconda3\\lib\\site-packages (from pathlib-mate->uszipcode) (1.4.4)\n",
      "Requirement already satisfied: six in c:\\users\\shahs_pi8a6lu\\anaconda3\\lib\\site-packages (from pathlib-mate->uszipcode) (1.12.0)\n",
      "Requirement already satisfied: urllib3<1.25,>=1.21.1 in c:\\users\\shahs_pi8a6lu\\anaconda3\\lib\\site-packages (from requests->uszipcode) (1.24.1)\n",
      "Requirement already satisfied: chardet<3.1.0,>=3.0.2 in c:\\users\\shahs_pi8a6lu\\anaconda3\\lib\\site-packages (from requests->uszipcode) (3.0.4)\n",
      "Requirement already satisfied: certifi>=2017.4.17 in c:\\users\\shahs_pi8a6lu\\anaconda3\\lib\\site-packages (from requests->uszipcode) (2018.11.29)\n",
      "Requirement already satisfied: idna<2.9,>=2.5 in c:\\users\\shahs_pi8a6lu\\anaconda3\\lib\\site-packages (from requests->uszipcode) (2.8)\n",
      "Requirement already satisfied: pycodestyle>=2.4.0 in c:\\users\\shahs_pi8a6lu\\anaconda3\\lib\\site-packages (from autopep8->pathlib-mate->uszipcode) (2.4.0)\n"
     ]
    }
   ],
   "source": [
    "import sys\n",
    "!{sys.executable} -m pip install uszipcode"
   ]
  },
  {
   "cell_type": "code",
   "execution_count": 811,
   "metadata": {},
   "outputs": [
    {
     "name": "stdout",
     "output_type": "stream",
     "text": [
      "Requirement already satisfied: imbalanced-learn in c:\\users\\shahs_pi8a6lu\\anaconda3\\lib\\site-packages (0.5.0)\n",
      "Requirement already satisfied: scikit-learn>=0.21 in c:\\users\\shahs_pi8a6lu\\anaconda3\\lib\\site-packages (from imbalanced-learn) (0.21.3)\n",
      "Requirement already satisfied: numpy>=1.11 in c:\\users\\shahs_pi8a6lu\\anaconda3\\lib\\site-packages (from imbalanced-learn) (1.15.4)\n",
      "Requirement already satisfied: scipy>=0.17 in c:\\users\\shahs_pi8a6lu\\anaconda3\\lib\\site-packages (from imbalanced-learn) (1.1.0)\n",
      "Requirement already satisfied: joblib>=0.11 in c:\\users\\shahs_pi8a6lu\\anaconda3\\lib\\site-packages (from imbalanced-learn) (0.13.2)\n"
     ]
    }
   ],
   "source": [
    "import sys\n",
    "!{sys.executable} -m pip install imbalanced-learn"
   ]
  },
  {
   "cell_type": "code",
   "execution_count": 812,
   "metadata": {},
   "outputs": [
    {
     "name": "stdout",
     "output_type": "stream",
     "text": [
      "Requirement already satisfied: xgboost in c:\\users\\shahs_pi8a6lu\\anaconda3\\lib\\site-packages (0.90)\n",
      "Requirement already satisfied: scipy in c:\\users\\shahs_pi8a6lu\\anaconda3\\lib\\site-packages (from xgboost) (1.1.0)\n",
      "Requirement already satisfied: numpy in c:\\users\\shahs_pi8a6lu\\anaconda3\\lib\\site-packages (from xgboost) (1.15.4)\n"
     ]
    }
   ],
   "source": [
    "import sys\n",
    "!{sys.executable} -m pip install xgboost"
   ]
  },
  {
   "cell_type": "code",
   "execution_count": 814,
   "metadata": {},
   "outputs": [
    {
     "name": "stdout",
     "output_type": "stream",
     "text": [
      "Requirement already satisfied: lightgbm in c:\\users\\shahs_pi8a6lu\\anaconda3\\lib\\site-packages (2.2.3)\n",
      "Requirement already satisfied: scikit-learn in c:\\users\\shahs_pi8a6lu\\anaconda3\\lib\\site-packages (from lightgbm) (0.21.3)\n",
      "Requirement already satisfied: numpy in c:\\users\\shahs_pi8a6lu\\anaconda3\\lib\\site-packages (from lightgbm) (1.15.4)\n",
      "Requirement already satisfied: scipy in c:\\users\\shahs_pi8a6lu\\anaconda3\\lib\\site-packages (from lightgbm) (1.1.0)\n",
      "Requirement already satisfied: joblib>=0.11 in c:\\users\\shahs_pi8a6lu\\anaconda3\\lib\\site-packages (from scikit-learn->lightgbm) (0.13.2)\n"
     ]
    }
   ],
   "source": [
    "import sys\n",
    "!{sys.executable} -m pip install lightgbm"
   ]
  },
  {
   "cell_type": "code",
   "execution_count": 813,
   "metadata": {},
   "outputs": [],
   "source": [
    "import pandas as pd\n",
    "import seaborn as sns\n",
    "from uszipcode import SearchEngine, SimpleZipcode, Zipcode\n",
    "import matplotlib.pyplot as plt\n",
    "import numpy as np"
   ]
  },
  {
   "cell_type": "code",
   "execution_count": 520,
   "metadata": {},
   "outputs": [],
   "source": [
    "from sklearn.linear_model import RidgeClassifier\n",
    "from sklearn.linear_model import LogisticRegression\n",
    "from sklearn.discriminant_analysis import LinearDiscriminantAnalysis\n",
    "from sklearn.neighbors import KNeighborsClassifier\n",
    "from sklearn.tree import DecisionTreeClassifier\n",
    "from sklearn.svm import SVC\n",
    "from sklearn.naive_bayes import GaussianNB\n",
    "from sklearn.ensemble import RandomForestClassifier\n",
    "from sklearn.ensemble import GradientBoostingClassifier\n",
    "\n",
    "from sklearn.model_selection import GridSearchCV\n",
    "from sklearn.model_selection import RandomizedSearchCV\n",
    "\n",
    "import xgboost as xgb\n",
    "from xgboost.sklearn import XGBClassifier\n",
    "\n",
    "from sklearn.preprocessing import StandardScaler, Normalizer\n",
    "from sklearn.preprocessing import LabelEncoder\n",
    "\n",
    "from sklearn.pipeline import Pipeline"
   ]
  },
  {
   "cell_type": "code",
   "execution_count": 815,
   "metadata": {},
   "outputs": [],
   "source": [
    "train = pd.read_csv(\"uconn_comp_2018_train.csv\")\n",
    "test = pd.read_csv(\"uconn_comp_2018_test.csv\")"
   ]
  },
  {
   "cell_type": "code",
   "execution_count": 816,
   "metadata": {},
   "outputs": [],
   "source": [
    "train['set'] = \"train\"\n",
    "test['set'] = \"test\"\n",
    "test['fraud'] = \"N/A\""
   ]
  },
  {
   "cell_type": "code",
   "execution_count": 817,
   "metadata": {},
   "outputs": [
    {
     "data": {
      "text/html": [
       "<div>\n",
       "<style scoped>\n",
       "    .dataframe tbody tr th:only-of-type {\n",
       "        vertical-align: middle;\n",
       "    }\n",
       "\n",
       "    .dataframe tbody tr th {\n",
       "        vertical-align: top;\n",
       "    }\n",
       "\n",
       "    .dataframe thead th {\n",
       "        text-align: right;\n",
       "    }\n",
       "</style>\n",
       "<table border=\"1\" class=\"dataframe\">\n",
       "  <thead>\n",
       "    <tr style=\"text-align: right;\">\n",
       "      <th></th>\n",
       "      <th>claim_number</th>\n",
       "      <th>age_of_driver</th>\n",
       "      <th>gender</th>\n",
       "      <th>marital_status</th>\n",
       "      <th>safty_rating</th>\n",
       "      <th>annual_income</th>\n",
       "      <th>high_education_ind</th>\n",
       "      <th>address_change_ind</th>\n",
       "      <th>living_status</th>\n",
       "      <th>zip_code</th>\n",
       "      <th>...</th>\n",
       "      <th>channel</th>\n",
       "      <th>policy_report_filed_ind</th>\n",
       "      <th>claim_est_payout</th>\n",
       "      <th>age_of_vehicle</th>\n",
       "      <th>vehicle_category</th>\n",
       "      <th>vehicle_price</th>\n",
       "      <th>vehicle_color</th>\n",
       "      <th>vehicle_weight</th>\n",
       "      <th>set</th>\n",
       "      <th>fraud</th>\n",
       "    </tr>\n",
       "  </thead>\n",
       "  <tbody>\n",
       "    <tr>\n",
       "      <th>0</th>\n",
       "      <td>2</td>\n",
       "      <td>39</td>\n",
       "      <td>M</td>\n",
       "      <td>1.0</td>\n",
       "      <td>73</td>\n",
       "      <td>36633</td>\n",
       "      <td>1</td>\n",
       "      <td>0</td>\n",
       "      <td>Own</td>\n",
       "      <td>50048</td>\n",
       "      <td>...</td>\n",
       "      <td>Phone</td>\n",
       "      <td>0</td>\n",
       "      <td>5196.552552</td>\n",
       "      <td>8.0</td>\n",
       "      <td>Large</td>\n",
       "      <td>24360.59273</td>\n",
       "      <td>silver</td>\n",
       "      <td>26633.27819</td>\n",
       "      <td>test</td>\n",
       "      <td>N/A</td>\n",
       "    </tr>\n",
       "    <tr>\n",
       "      <th>1</th>\n",
       "      <td>9</td>\n",
       "      <td>56</td>\n",
       "      <td>M</td>\n",
       "      <td>1.0</td>\n",
       "      <td>63</td>\n",
       "      <td>40252</td>\n",
       "      <td>1</td>\n",
       "      <td>1</td>\n",
       "      <td>Own</td>\n",
       "      <td>85068</td>\n",
       "      <td>...</td>\n",
       "      <td>Broker</td>\n",
       "      <td>1</td>\n",
       "      <td>7381.165248</td>\n",
       "      <td>6.0</td>\n",
       "      <td>Large</td>\n",
       "      <td>39710.42665</td>\n",
       "      <td>other</td>\n",
       "      <td>15875.34874</td>\n",
       "      <td>test</td>\n",
       "      <td>N/A</td>\n",
       "    </tr>\n",
       "    <tr>\n",
       "      <th>2</th>\n",
       "      <td>11</td>\n",
       "      <td>39</td>\n",
       "      <td>F</td>\n",
       "      <td>0.0</td>\n",
       "      <td>75</td>\n",
       "      <td>36634</td>\n",
       "      <td>1</td>\n",
       "      <td>1</td>\n",
       "      <td>Own</td>\n",
       "      <td>20115</td>\n",
       "      <td>...</td>\n",
       "      <td>Broker</td>\n",
       "      <td>1</td>\n",
       "      <td>5612.123938</td>\n",
       "      <td>7.0</td>\n",
       "      <td>Medium</td>\n",
       "      <td>50327.56618</td>\n",
       "      <td>silver</td>\n",
       "      <td>21365.05932</td>\n",
       "      <td>test</td>\n",
       "      <td>N/A</td>\n",
       "    </tr>\n",
       "    <tr>\n",
       "      <th>3</th>\n",
       "      <td>13</td>\n",
       "      <td>33</td>\n",
       "      <td>M</td>\n",
       "      <td>1.0</td>\n",
       "      <td>72</td>\n",
       "      <td>34960</td>\n",
       "      <td>0</td>\n",
       "      <td>1</td>\n",
       "      <td>Own</td>\n",
       "      <td>50006</td>\n",
       "      <td>...</td>\n",
       "      <td>Phone</td>\n",
       "      <td>0</td>\n",
       "      <td>7957.267641</td>\n",
       "      <td>2.0</td>\n",
       "      <td>Medium</td>\n",
       "      <td>23457.35282</td>\n",
       "      <td>black</td>\n",
       "      <td>26707.46021</td>\n",
       "      <td>test</td>\n",
       "      <td>N/A</td>\n",
       "    </tr>\n",
       "    <tr>\n",
       "      <th>4</th>\n",
       "      <td>14</td>\n",
       "      <td>24</td>\n",
       "      <td>F</td>\n",
       "      <td>1.0</td>\n",
       "      <td>70</td>\n",
       "      <td>31776</td>\n",
       "      <td>1</td>\n",
       "      <td>1</td>\n",
       "      <td>Rent</td>\n",
       "      <td>20122</td>\n",
       "      <td>...</td>\n",
       "      <td>Online</td>\n",
       "      <td>0</td>\n",
       "      <td>6232.195932</td>\n",
       "      <td>1.0</td>\n",
       "      <td>Medium</td>\n",
       "      <td>18238.39202</td>\n",
       "      <td>silver</td>\n",
       "      <td>22949.73744</td>\n",
       "      <td>test</td>\n",
       "      <td>N/A</td>\n",
       "    </tr>\n",
       "  </tbody>\n",
       "</table>\n",
       "<p>5 rows × 26 columns</p>\n",
       "</div>"
      ],
      "text/plain": [
       "   claim_number  age_of_driver gender  marital_status  safty_rating  \\\n",
       "0             2             39      M             1.0            73   \n",
       "1             9             56      M             1.0            63   \n",
       "2            11             39      F             0.0            75   \n",
       "3            13             33      M             1.0            72   \n",
       "4            14             24      F             1.0            70   \n",
       "\n",
       "   annual_income  high_education_ind  address_change_ind living_status  \\\n",
       "0          36633                   1                   0           Own   \n",
       "1          40252                   1                   1           Own   \n",
       "2          36634                   1                   1           Own   \n",
       "3          34960                   0                   1           Own   \n",
       "4          31776                   1                   1          Rent   \n",
       "\n",
       "   zip_code  ...   channel policy_report_filed_ind claim_est_payout  \\\n",
       "0     50048  ...     Phone                       0      5196.552552   \n",
       "1     85068  ...    Broker                       1      7381.165248   \n",
       "2     20115  ...    Broker                       1      5612.123938   \n",
       "3     50006  ...     Phone                       0      7957.267641   \n",
       "4     20122  ...    Online                       0      6232.195932   \n",
       "\n",
       "   age_of_vehicle  vehicle_category  vehicle_price vehicle_color  \\\n",
       "0             8.0             Large    24360.59273        silver   \n",
       "1             6.0             Large    39710.42665         other   \n",
       "2             7.0            Medium    50327.56618        silver   \n",
       "3             2.0            Medium    23457.35282         black   \n",
       "4             1.0            Medium    18238.39202        silver   \n",
       "\n",
       "   vehicle_weight   set  fraud  \n",
       "0     26633.27819  test    N/A  \n",
       "1     15875.34874  test    N/A  \n",
       "2     21365.05932  test    N/A  \n",
       "3     26707.46021  test    N/A  \n",
       "4     22949.73744  test    N/A  \n",
       "\n",
       "[5 rows x 26 columns]"
      ]
     },
     "execution_count": 817,
     "metadata": {},
     "output_type": "execute_result"
    }
   ],
   "source": [
    "test.head()"
   ]
  },
  {
   "cell_type": "code",
   "execution_count": 818,
   "metadata": {},
   "outputs": [],
   "source": [
    "train = pd.concat([train,test], sort = True)"
   ]
  },
  {
   "cell_type": "code",
   "execution_count": 819,
   "metadata": {},
   "outputs": [
    {
     "name": "stdout",
     "output_type": "stream",
     "text": [
      "# of Rows in data:     30000\n",
      "# of Columns in data:  26\n",
      "Sample Data\n"
     ]
    },
    {
     "data": {
      "text/html": [
       "<div>\n",
       "<style scoped>\n",
       "    .dataframe tbody tr th:only-of-type {\n",
       "        vertical-align: middle;\n",
       "    }\n",
       "\n",
       "    .dataframe tbody tr th {\n",
       "        vertical-align: top;\n",
       "    }\n",
       "\n",
       "    .dataframe thead th {\n",
       "        text-align: right;\n",
       "    }\n",
       "</style>\n",
       "<table border=\"1\" class=\"dataframe\">\n",
       "  <thead>\n",
       "    <tr style=\"text-align: right;\">\n",
       "      <th></th>\n",
       "      <th>accident_site</th>\n",
       "      <th>address_change_ind</th>\n",
       "      <th>age_of_driver</th>\n",
       "      <th>age_of_vehicle</th>\n",
       "      <th>annual_income</th>\n",
       "      <th>channel</th>\n",
       "      <th>claim_date</th>\n",
       "      <th>claim_day_of_week</th>\n",
       "      <th>claim_est_payout</th>\n",
       "      <th>claim_number</th>\n",
       "      <th>...</th>\n",
       "      <th>past_num_of_claims</th>\n",
       "      <th>policy_report_filed_ind</th>\n",
       "      <th>safty_rating</th>\n",
       "      <th>set</th>\n",
       "      <th>vehicle_category</th>\n",
       "      <th>vehicle_color</th>\n",
       "      <th>vehicle_price</th>\n",
       "      <th>vehicle_weight</th>\n",
       "      <th>witness_present_ind</th>\n",
       "      <th>zip_code</th>\n",
       "    </tr>\n",
       "  </thead>\n",
       "  <tbody>\n",
       "    <tr>\n",
       "      <th>0</th>\n",
       "      <td>Local</td>\n",
       "      <td>1</td>\n",
       "      <td>41</td>\n",
       "      <td>2.0</td>\n",
       "      <td>37130</td>\n",
       "      <td>Broker</td>\n",
       "      <td>12/5/2015</td>\n",
       "      <td>Saturday</td>\n",
       "      <td>3011.347886</td>\n",
       "      <td>10743</td>\n",
       "      <td>...</td>\n",
       "      <td>0</td>\n",
       "      <td>0</td>\n",
       "      <td>71</td>\n",
       "      <td>train</td>\n",
       "      <td>Compact</td>\n",
       "      <td>red</td>\n",
       "      <td>12143.728800</td>\n",
       "      <td>2429.429302</td>\n",
       "      <td>0.0</td>\n",
       "      <td>85001</td>\n",
       "    </tr>\n",
       "    <tr>\n",
       "      <th>1</th>\n",
       "      <td>Parking Lot</td>\n",
       "      <td>1</td>\n",
       "      <td>44</td>\n",
       "      <td>4.0</td>\n",
       "      <td>37868</td>\n",
       "      <td>Phone</td>\n",
       "      <td>10/8/2016</td>\n",
       "      <td>Saturday</td>\n",
       "      <td>4687.252280</td>\n",
       "      <td>28633</td>\n",
       "      <td>...</td>\n",
       "      <td>0</td>\n",
       "      <td>1</td>\n",
       "      <td>49</td>\n",
       "      <td>train</td>\n",
       "      <td>Large</td>\n",
       "      <td>red</td>\n",
       "      <td>11806.026700</td>\n",
       "      <td>2450.138635</td>\n",
       "      <td>0.0</td>\n",
       "      <td>85024</td>\n",
       "    </tr>\n",
       "    <tr>\n",
       "      <th>2</th>\n",
       "      <td>Local</td>\n",
       "      <td>1</td>\n",
       "      <td>27</td>\n",
       "      <td>4.0</td>\n",
       "      <td>32963</td>\n",
       "      <td>Broker</td>\n",
       "      <td>9/29/2016</td>\n",
       "      <td>Thursday</td>\n",
       "      <td>3452.309502</td>\n",
       "      <td>5766</td>\n",
       "      <td>...</td>\n",
       "      <td>0</td>\n",
       "      <td>1</td>\n",
       "      <td>63</td>\n",
       "      <td>train</td>\n",
       "      <td>Large</td>\n",
       "      <td>gray</td>\n",
       "      <td>11520.568440</td>\n",
       "      <td>2591.881965</td>\n",
       "      <td>1.0</td>\n",
       "      <td>80025</td>\n",
       "    </tr>\n",
       "    <tr>\n",
       "      <th>3</th>\n",
       "      <td>Parking Lot</td>\n",
       "      <td>0</td>\n",
       "      <td>50</td>\n",
       "      <td>2.0</td>\n",
       "      <td>39102</td>\n",
       "      <td>Broker</td>\n",
       "      <td>2/11/2015</td>\n",
       "      <td>Wednesday</td>\n",
       "      <td>3187.409496</td>\n",
       "      <td>15895</td>\n",
       "      <td>...</td>\n",
       "      <td>0</td>\n",
       "      <td>1</td>\n",
       "      <td>86</td>\n",
       "      <td>train</td>\n",
       "      <td>Large</td>\n",
       "      <td>black</td>\n",
       "      <td>8848.202851</td>\n",
       "      <td>2713.474095</td>\n",
       "      <td>0.0</td>\n",
       "      <td>80022</td>\n",
       "    </tr>\n",
       "    <tr>\n",
       "      <th>4</th>\n",
       "      <td>Local</td>\n",
       "      <td>0</td>\n",
       "      <td>37</td>\n",
       "      <td>7.0</td>\n",
       "      <td>36103</td>\n",
       "      <td>Broker</td>\n",
       "      <td>12/26/2016</td>\n",
       "      <td>Monday</td>\n",
       "      <td>2982.306201</td>\n",
       "      <td>23799</td>\n",
       "      <td>...</td>\n",
       "      <td>0</td>\n",
       "      <td>1</td>\n",
       "      <td>90</td>\n",
       "      <td>train</td>\n",
       "      <td>Large</td>\n",
       "      <td>black</td>\n",
       "      <td>14557.293570</td>\n",
       "      <td>2733.726122</td>\n",
       "      <td>1.0</td>\n",
       "      <td>50013</td>\n",
       "    </tr>\n",
       "  </tbody>\n",
       "</table>\n",
       "<p>5 rows × 26 columns</p>\n",
       "</div>"
      ],
      "text/plain": [
       "  accident_site  address_change_ind  age_of_driver  age_of_vehicle  \\\n",
       "0         Local                   1             41             2.0   \n",
       "1   Parking Lot                   1             44             4.0   \n",
       "2         Local                   1             27             4.0   \n",
       "3   Parking Lot                   0             50             2.0   \n",
       "4         Local                   0             37             7.0   \n",
       "\n",
       "   annual_income channel  claim_date claim_day_of_week  claim_est_payout  \\\n",
       "0          37130  Broker   12/5/2015          Saturday       3011.347886   \n",
       "1          37868   Phone   10/8/2016          Saturday       4687.252280   \n",
       "2          32963  Broker   9/29/2016          Thursday       3452.309502   \n",
       "3          39102  Broker   2/11/2015         Wednesday       3187.409496   \n",
       "4          36103  Broker  12/26/2016            Monday       2982.306201   \n",
       "\n",
       "   claim_number   ...    past_num_of_claims policy_report_filed_ind  \\\n",
       "0         10743   ...                     0                       0   \n",
       "1         28633   ...                     0                       1   \n",
       "2          5766   ...                     0                       1   \n",
       "3         15895   ...                     0                       1   \n",
       "4         23799   ...                     0                       1   \n",
       "\n",
       "   safty_rating    set vehicle_category  vehicle_color  vehicle_price  \\\n",
       "0            71  train          Compact            red   12143.728800   \n",
       "1            49  train            Large            red   11806.026700   \n",
       "2            63  train            Large           gray   11520.568440   \n",
       "3            86  train            Large          black    8848.202851   \n",
       "4            90  train            Large          black   14557.293570   \n",
       "\n",
       "   vehicle_weight  witness_present_ind zip_code  \n",
       "0     2429.429302                  0.0    85001  \n",
       "1     2450.138635                  0.0    85024  \n",
       "2     2591.881965                  1.0    80025  \n",
       "3     2713.474095                  0.0    80022  \n",
       "4     2733.726122                  1.0    50013  \n",
       "\n",
       "[5 rows x 26 columns]"
      ]
     },
     "execution_count": 819,
     "metadata": {},
     "output_type": "execute_result"
    }
   ],
   "source": [
    "print(\"# of Rows in data:     \" + str(train.shape[0]))\n",
    "print(\"# of Columns in data:  \" + str(train.shape[1]))\n",
    "print(\"Sample Data\")\n",
    "train.head()"
   ]
  },
  {
   "cell_type": "code",
   "execution_count": 820,
   "metadata": {},
   "outputs": [
    {
     "data": {
      "text/plain": [
       "age_of_vehicle          11\n",
       "claim_est_payout        31\n",
       "marital_status           7\n",
       "witness_present_ind    220\n",
       "dtype: int64"
      ]
     },
     "execution_count": 820,
     "metadata": {},
     "output_type": "execute_result"
    }
   ],
   "source": [
    "train.isnull().sum()[train.isnull().sum()>0]"
   ]
  },
  {
   "cell_type": "code",
   "execution_count": 821,
   "metadata": {},
   "outputs": [],
   "source": [
    "train = train.loc[train[\"fraud\"] != -1]"
   ]
  },
  {
   "cell_type": "code",
   "execution_count": 822,
   "metadata": {},
   "outputs": [
    {
     "data": {
      "text/plain": [
       "<matplotlib.axes._subplots.AxesSubplot at 0x2762175fac8>"
      ]
     },
     "execution_count": 822,
     "metadata": {},
     "output_type": "execute_result"
    },
    {
     "data": {
      "image/png": "[encoded data removed]",
      "text/plain": [
       "<Figure size 432x288 with 1 Axes>"
      ]
     },
     "metadata": {
      "needs_background": "light"
     },
     "output_type": "display_data"
    }
   ],
   "source": [
    "train.boxplot(column='age_of_driver')"
   ]
  },
  {
   "cell_type": "code",
   "execution_count": 823,
   "metadata": {},
   "outputs": [
    {
     "data": {
      "text/html": [
       "<div>\n",
       "<style scoped>\n",
       "    .dataframe tbody tr th:only-of-type {\n",
       "        vertical-align: middle;\n",
       "    }\n",
       "\n",
       "    .dataframe tbody tr th {\n",
       "        vertical-align: top;\n",
       "    }\n",
       "\n",
       "    .dataframe thead th {\n",
       "        text-align: right;\n",
       "    }\n",
       "</style>\n",
       "<table border=\"1\" class=\"dataframe\">\n",
       "  <thead>\n",
       "    <tr style=\"text-align: right;\">\n",
       "      <th></th>\n",
       "      <th>address_change_ind</th>\n",
       "      <th>age_of_driver</th>\n",
       "      <th>age_of_vehicle</th>\n",
       "      <th>annual_income</th>\n",
       "      <th>claim_est_payout</th>\n",
       "      <th>claim_number</th>\n",
       "      <th>high_education_ind</th>\n",
       "      <th>liab_prct</th>\n",
       "      <th>marital_status</th>\n",
       "      <th>past_num_of_claims</th>\n",
       "      <th>policy_report_filed_ind</th>\n",
       "      <th>safty_rating</th>\n",
       "      <th>vehicle_price</th>\n",
       "      <th>vehicle_weight</th>\n",
       "      <th>witness_present_ind</th>\n",
       "      <th>zip_code</th>\n",
       "    </tr>\n",
       "  </thead>\n",
       "  <tbody>\n",
       "    <tr>\n",
       "      <th>count</th>\n",
       "      <td>29997.000000</td>\n",
       "      <td>29997.000000</td>\n",
       "      <td>29986.000000</td>\n",
       "      <td>29997.000000</td>\n",
       "      <td>29966.000000</td>\n",
       "      <td>29997.000000</td>\n",
       "      <td>29997.000000</td>\n",
       "      <td>29997.000000</td>\n",
       "      <td>29990.000000</td>\n",
       "      <td>29997.000000</td>\n",
       "      <td>29997.000000</td>\n",
       "      <td>29997.000000</td>\n",
       "      <td>29997.000000</td>\n",
       "      <td>29997.000000</td>\n",
       "      <td>29777.000000</td>\n",
       "      <td>29997.000000</td>\n",
       "    </tr>\n",
       "    <tr>\n",
       "      <th>mean</th>\n",
       "      <td>0.577058</td>\n",
       "      <td>43.627763</td>\n",
       "      <td>4.992463</td>\n",
       "      <td>37353.267827</td>\n",
       "      <td>4991.987470</td>\n",
       "      <td>15000.423042</td>\n",
       "      <td>0.698803</td>\n",
       "      <td>49.565657</td>\n",
       "      <td>0.713671</td>\n",
       "      <td>0.500917</td>\n",
       "      <td>0.600893</td>\n",
       "      <td>73.618929</td>\n",
       "      <td>23024.451854</td>\n",
       "      <td>22963.217456</td>\n",
       "      <td>0.235114</td>\n",
       "      <td>49827.116378</td>\n",
       "    </tr>\n",
       "    <tr>\n",
       "      <th>std</th>\n",
       "      <td>0.494035</td>\n",
       "      <td>12.057464</td>\n",
       "      <td>2.246018</td>\n",
       "      <td>2944.944353</td>\n",
       "      <td>2232.453493</td>\n",
       "      <td>8660.102459</td>\n",
       "      <td>0.458786</td>\n",
       "      <td>33.639116</td>\n",
       "      <td>0.452052</td>\n",
       "      <td>0.955700</td>\n",
       "      <td>0.489723</td>\n",
       "      <td>15.359929</td>\n",
       "      <td>12037.059296</td>\n",
       "      <td>12111.165666</td>\n",
       "      <td>0.424077</td>\n",
       "      <td>29181.361742</td>\n",
       "    </tr>\n",
       "    <tr>\n",
       "      <th>min</th>\n",
       "      <td>0.000000</td>\n",
       "      <td>18.000000</td>\n",
       "      <td>0.000000</td>\n",
       "      <td>-1.000000</td>\n",
       "      <td>282.639432</td>\n",
       "      <td>1.000000</td>\n",
       "      <td>0.000000</td>\n",
       "      <td>0.000000</td>\n",
       "      <td>0.000000</td>\n",
       "      <td>0.000000</td>\n",
       "      <td>0.000000</td>\n",
       "      <td>1.000000</td>\n",
       "      <td>2261.507903</td>\n",
       "      <td>2429.429302</td>\n",
       "      <td>0.000000</td>\n",
       "      <td>0.000000</td>\n",
       "    </tr>\n",
       "    <tr>\n",
       "      <th>25%</th>\n",
       "      <td>0.000000</td>\n",
       "      <td>35.000000</td>\n",
       "      <td>3.000000</td>\n",
       "      <td>35552.000000</td>\n",
       "      <td>3347.924495</td>\n",
       "      <td>7501.000000</td>\n",
       "      <td>0.000000</td>\n",
       "      <td>17.000000</td>\n",
       "      <td>0.000000</td>\n",
       "      <td>0.000000</td>\n",
       "      <td>0.000000</td>\n",
       "      <td>65.000000</td>\n",
       "      <td>14205.539950</td>\n",
       "      <td>14038.867460</td>\n",
       "      <td>0.000000</td>\n",
       "      <td>20111.000000</td>\n",
       "    </tr>\n",
       "    <tr>\n",
       "      <th>50%</th>\n",
       "      <td>1.000000</td>\n",
       "      <td>43.000000</td>\n",
       "      <td>5.000000</td>\n",
       "      <td>37609.000000</td>\n",
       "      <td>4670.220900</td>\n",
       "      <td>15000.000000</td>\n",
       "      <td>1.000000</td>\n",
       "      <td>50.000000</td>\n",
       "      <td>1.000000</td>\n",
       "      <td>0.000000</td>\n",
       "      <td>1.000000</td>\n",
       "      <td>76.000000</td>\n",
       "      <td>20803.750330</td>\n",
       "      <td>20715.187370</td>\n",
       "      <td>0.000000</td>\n",
       "      <td>50027.000000</td>\n",
       "    </tr>\n",
       "    <tr>\n",
       "      <th>75%</th>\n",
       "      <td>1.000000</td>\n",
       "      <td>51.000000</td>\n",
       "      <td>6.000000</td>\n",
       "      <td>39317.000000</td>\n",
       "      <td>6275.691874</td>\n",
       "      <td>22500.000000</td>\n",
       "      <td>1.000000</td>\n",
       "      <td>81.000000</td>\n",
       "      <td>1.000000</td>\n",
       "      <td>1.000000</td>\n",
       "      <td>1.000000</td>\n",
       "      <td>85.000000</td>\n",
       "      <td>29443.492970</td>\n",
       "      <td>29354.084120</td>\n",
       "      <td>0.000000</td>\n",
       "      <td>80037.000000</td>\n",
       "    </tr>\n",
       "    <tr>\n",
       "      <th>max</th>\n",
       "      <td>1.000000</td>\n",
       "      <td>278.000000</td>\n",
       "      <td>16.000000</td>\n",
       "      <td>56275.000000</td>\n",
       "      <td>23903.366250</td>\n",
       "      <td>30000.000000</td>\n",
       "      <td>1.000000</td>\n",
       "      <td>100.000000</td>\n",
       "      <td>1.000000</td>\n",
       "      <td>6.000000</td>\n",
       "      <td>1.000000</td>\n",
       "      <td>100.000000</td>\n",
       "      <td>127063.506000</td>\n",
       "      <td>123016.650400</td>\n",
       "      <td>1.000000</td>\n",
       "      <td>85083.000000</td>\n",
       "    </tr>\n",
       "  </tbody>\n",
       "</table>\n",
       "</div>"
      ],
      "text/plain": [
       "       address_change_ind  age_of_driver  age_of_vehicle  annual_income  \\\n",
       "count        29997.000000   29997.000000    29986.000000   29997.000000   \n",
       "mean             0.577058      43.627763        4.992463   37353.267827   \n",
       "std              0.494035      12.057464        2.246018    2944.944353   \n",
       "min              0.000000      18.000000        0.000000      -1.000000   \n",
       "25%              0.000000      35.000000        3.000000   35552.000000   \n",
       "50%              1.000000      43.000000        5.000000   37609.000000   \n",
       "75%              1.000000      51.000000        6.000000   39317.000000   \n",
       "max              1.000000     278.000000       16.000000   56275.000000   \n",
       "\n",
       "       claim_est_payout  claim_number  high_education_ind     liab_prct  \\\n",
       "count      29966.000000  29997.000000        29997.000000  29997.000000   \n",
       "mean        4991.987470  15000.423042            0.698803     49.565657   \n",
       "std         2232.453493   8660.102459            0.458786     33.639116   \n",
       "min          282.639432      1.000000            0.000000      0.000000   \n",
       "25%         3347.924495   7501.000000            0.000000     17.000000   \n",
       "50%         4670.220900  15000.000000            1.000000     50.000000   \n",
       "75%         6275.691874  22500.000000            1.000000     81.000000   \n",
       "max        23903.366250  30000.000000            1.000000    100.000000   \n",
       "\n",
       "       marital_status  past_num_of_claims  policy_report_filed_ind  \\\n",
       "count    29990.000000        29997.000000             29997.000000   \n",
       "mean         0.713671            0.500917                 0.600893   \n",
       "std          0.452052            0.955700                 0.489723   \n",
       "min          0.000000            0.000000                 0.000000   \n",
       "25%          0.000000            0.000000                 0.000000   \n",
       "50%          1.000000            0.000000                 1.000000   \n",
       "75%          1.000000            1.000000                 1.000000   \n",
       "max          1.000000            6.000000                 1.000000   \n",
       "\n",
       "       safty_rating  vehicle_price  vehicle_weight  witness_present_ind  \\\n",
       "count  29997.000000   29997.000000    29997.000000         29777.000000   \n",
       "mean      73.618929   23024.451854    22963.217456             0.235114   \n",
       "std       15.359929   12037.059296    12111.165666             0.424077   \n",
       "min        1.000000    2261.507903     2429.429302             0.000000   \n",
       "25%       65.000000   14205.539950    14038.867460             0.000000   \n",
       "50%       76.000000   20803.750330    20715.187370             0.000000   \n",
       "75%       85.000000   29443.492970    29354.084120             0.000000   \n",
       "max      100.000000  127063.506000   123016.650400             1.000000   \n",
       "\n",
       "           zip_code  \n",
       "count  29997.000000  \n",
       "mean   49827.116378  \n",
       "std    29181.361742  \n",
       "min        0.000000  \n",
       "25%    20111.000000  \n",
       "50%    50027.000000  \n",
       "75%    80037.000000  \n",
       "max    85083.000000  "
      ]
     },
     "execution_count": 823,
     "metadata": {},
     "output_type": "execute_result"
    }
   ],
   "source": [
    "train.describe()"
   ]
  },
  {
   "cell_type": "code",
   "execution_count": 824,
   "metadata": {},
   "outputs": [
    {
     "data": {
      "image/png": "[encoded data removed]",
      "text/plain": [
       "<Figure size 432x288 with 2 Axes>"
      ]
     },
     "metadata": {
      "needs_background": "light"
     },
     "output_type": "display_data"
    }
   ],
   "source": [
    "sns.heatmap(train.corr(method = 'pearson'));"
   ]
  },
  {
   "cell_type": "code",
   "execution_count": 825,
   "metadata": {},
   "outputs": [],
   "source": [
    "train.loc[train['age_of_driver'] > 100, 'age_of_driver'] = 100"
   ]
  },
  {
   "cell_type": "code",
   "execution_count": 826,
   "metadata": {},
   "outputs": [],
   "source": [
    "train = train.loc[train[\"zip_code\"] != 0]"
   ]
  },
  {
   "cell_type": "code",
   "execution_count": 827,
   "metadata": {},
   "outputs": [],
   "source": [
    "search = SearchEngine()\n",
    "z_code = [ ]\n",
    "z = train[\"zip_code\"]\n",
    "for i in train[\"zip_code\"]:\n",
    "    zipcode = search.by_zipcode(i)\n",
    "    state = zipcode.state_abbr\n",
    "    z_code.append(state)   \n",
    "\n",
    "train['state'] = z_code"
   ]
  },
  {
   "cell_type": "code",
   "execution_count": 828,
   "metadata": {},
   "outputs": [
    {
     "name": "stdout",
     "output_type": "stream",
     "text": [
      "                Count  Percentage\n",
      "marital_status                   \n",
      "0.0              8570    0.286105\n",
      "1.0             21377    0.713661\n"
     ]
    }
   ],
   "source": [
    "# Imputing missing values for marital status\n",
    "print(pd.concat([train.groupby('marital_status').size(), train.groupby('marital_status').size()/\n",
    "                 len(train)],axis=1).rename(columns={0: 'Count', 1: 'Percentage'}))"
   ]
  },
  {
   "cell_type": "code",
   "execution_count": 829,
   "metadata": {},
   "outputs": [],
   "source": [
    "# Imputing marital status with value 1 as there are only 5 records with null values and 70% data has value as 1\n",
    "train['marital_status'].fillna(value=1,inplace=True)"
   ]
  },
  {
   "cell_type": "code",
   "execution_count": 830,
   "metadata": {},
   "outputs": [],
   "source": [
    "# imputing age of vehicle. There are only 8 records. Hence imputing with mean value\n",
    "train['age_of_vehicle'].fillna(value=5,inplace=True)\n",
    "train['age_of_vehicle']=train['age_of_vehicle'].astype('int64')"
   ]
  },
  {
   "cell_type": "code",
   "execution_count": 831,
   "metadata": {},
   "outputs": [
    {
     "data": {
      "image/png": "[encoded data removed]",
      "text/plain": [
       "<Figure size 432x288 with 1 Axes>"
      ]
     },
     "metadata": {
      "needs_background": "light"
     },
     "output_type": "display_data"
    }
   ],
   "source": [
    "Claim_price_pc =train['claim_est_payout']/train['vehicle_price']\n",
    "plt.scatter(Claim_price_pc,train['liab_prct']);"
   ]
  },
  {
   "cell_type": "code",
   "execution_count": 832,
   "metadata": {},
   "outputs": [
    {
     "name": "stderr",
     "output_type": "stream",
     "text": [
      "C:\\Users\\shahs_pi8a6lu\\Anaconda3\\lib\\site-packages\\statsmodels\\nonparametric\\kde.py:448: RuntimeWarning: invalid value encountered in greater\n",
      "  X = X[np.logical_and(X > clip[0], X < clip[1])] # won't work for two columns.\n",
      "C:\\Users\\shahs_pi8a6lu\\Anaconda3\\lib\\site-packages\\statsmodels\\nonparametric\\kde.py:448: RuntimeWarning: invalid value encountered in less\n",
      "  X = X[np.logical_and(X > clip[0], X < clip[1])] # won't work for two columns.\n",
      "C:\\Users\\shahs_pi8a6lu\\Anaconda3\\lib\\site-packages\\scipy\\stats\\stats.py:1713: FutureWarning: Using a non-tuple sequence for multidimensional indexing is deprecated; use `arr[tuple(seq)]` instead of `arr[seq]`. In the future this will be interpreted as an array index, `arr[np.array(seq)]`, which will result either in an error or a different result.\n",
      "  return np.add.reduce(sorted[indexer] * weights, axis=axis) / sumval\n"
     ]
    },
    {
     "data": {
      "image/png": "[encoded data removed]",
      "text/plain": [
       "<Figure size 432x288 with 1 Axes>"
      ]
     },
     "metadata": {
      "needs_background": "light"
     },
     "output_type": "display_data"
    }
   ],
   "source": [
    "sns.kdeplot(Claim_price_pc);"
   ]
  },
  {
   "cell_type": "code",
   "execution_count": 833,
   "metadata": {},
   "outputs": [],
   "source": [
    "# imputing claim estimate payout with 30% of the vehicle price\n",
    "train['claim_est_payout'].fillna(train['vehicle_price']*.3,inplace=True)"
   ]
  },
  {
   "cell_type": "code",
   "execution_count": 834,
   "metadata": {},
   "outputs": [
    {
     "name": "stdout",
     "output_type": "stream",
     "text": [
      "                     Count  Percentage\n",
      "witness_present_ind                   \n",
      "0.0                  22741    0.759197\n",
      "1.0                   6993    0.233458\n"
     ]
    }
   ],
   "source": [
    "# Imputing missing values for witness_present_ind\n",
    "print(pd.concat([train.groupby('witness_present_ind').size(), train.groupby('witness_present_ind').size()/len(train)],axis=1).rename(columns={0: 'Count', 1: 'Percentage'}))"
   ]
  },
  {
   "cell_type": "code",
   "execution_count": 835,
   "metadata": {},
   "outputs": [],
   "source": [
    "train['witness_present_ind'].fillna(value=0,inplace=True)"
   ]
  },
  {
   "cell_type": "code",
   "execution_count": 836,
   "metadata": {},
   "outputs": [
    {
     "data": {
      "image/png": "[encoded data removed]",
      "text/plain": [
       "<Figure size 1440x1440 with 16 Axes>"
      ]
     },
     "metadata": {
      "needs_background": "light"
     },
     "output_type": "display_data"
    }
   ],
   "source": [
    "train.hist(figsize = [20,20]);"
   ]
  },
  {
   "cell_type": "code",
   "execution_count": 837,
   "metadata": {},
   "outputs": [
    {
     "name": "stderr",
     "output_type": "stream",
     "text": [
      "C:\\Users\\shahs_pi8a6lu\\Anaconda3\\lib\\site-packages\\ipykernel_launcher.py:3: SettingWithCopyWarning: \n",
      "A value is trying to be set on a copy of a slice from a DataFrame\n",
      "\n",
      "See the caveats in the documentation: http://pandas.pydata.org/pandas-docs/stable/indexing.html#indexing-view-versus-copy\n",
      "  This is separate from the ipykernel package so we can avoid doing imports until\n",
      "C:\\Users\\shahs_pi8a6lu\\Anaconda3\\lib\\site-packages\\ipykernel_launcher.py:4: SettingWithCopyWarning: \n",
      "A value is trying to be set on a copy of a slice from a DataFrame\n",
      "\n",
      "See the caveats in the documentation: http://pandas.pydata.org/pandas-docs/stable/indexing.html#indexing-view-versus-copy\n",
      "  after removing the cwd from sys.path.\n",
      "C:\\Users\\shahs_pi8a6lu\\Anaconda3\\lib\\site-packages\\ipykernel_launcher.py:5: SettingWithCopyWarning: \n",
      "A value is trying to be set on a copy of a slice from a DataFrame\n",
      "\n",
      "See the caveats in the documentation: http://pandas.pydata.org/pandas-docs/stable/indexing.html#indexing-view-versus-copy\n",
      "  \"\"\"\n"
     ]
    }
   ],
   "source": [
    "# making categories based on quartile ranges and Std deviation\n",
    "train['age_of_driver_new'] = train.age_of_driver\n",
    "train['age_of_driver_new'][train.age_of_driver >= 51] = 'Old Driver'\n",
    "train['age_of_driver_new'][(train.age_of_driver >= 35) & (train.age_of_driver < 51)] = 'Mid-aged Driver'\n",
    "train['age_of_driver_new'][train.age_of_driver < 35] = 'Young Driver'"
   ]
  },
  {
   "cell_type": "code",
   "execution_count": 838,
   "metadata": {},
   "outputs": [
    {
     "name": "stderr",
     "output_type": "stream",
     "text": [
      "C:\\Users\\shahs_pi8a6lu\\Anaconda3\\lib\\site-packages\\ipykernel_launcher.py:2: SettingWithCopyWarning: \n",
      "A value is trying to be set on a copy of a slice from a DataFrame\n",
      "\n",
      "See the caveats in the documentation: http://pandas.pydata.org/pandas-docs/stable/indexing.html#indexing-view-versus-copy\n",
      "  \n",
      "C:\\Users\\shahs_pi8a6lu\\Anaconda3\\lib\\site-packages\\ipykernel_launcher.py:3: SettingWithCopyWarning: \n",
      "A value is trying to be set on a copy of a slice from a DataFrame\n",
      "\n",
      "See the caveats in the documentation: http://pandas.pydata.org/pandas-docs/stable/indexing.html#indexing-view-versus-copy\n",
      "  This is separate from the ipykernel package so we can avoid doing imports until\n"
     ]
    }
   ],
   "source": [
    "train['safty_rating_new'] = train.safty_rating\n",
    "train['safty_rating_new'][train.safty_rating >= 105] = 'Very High'\n",
    "train['safty_rating_new'][(train.safty_rating >= 90) & (train.safty_rating < 105)] = 'High'\n",
    "train['safty_rating_new'][(train.safty_rating >= 76) & (train.safty_rating < 90)] = 'High Average'\n",
    "train['safty_rating_new'][(train.safty_rating >= 65) & (train.safty_rating < 76)] = 'Low Average'\n",
    "train['safty_rating_new'][(train.safty_rating >= 50) & (train.safty_rating < 65)] = 'Low'\n",
    "train['safty_rating_new'][train.safty_rating < 50] = 'Very Low'"
   ]
  },
  {
   "cell_type": "code",
   "execution_count": 839,
   "metadata": {},
   "outputs": [
    {
     "name": "stderr",
     "output_type": "stream",
     "text": [
      "C:\\Users\\shahs_pi8a6lu\\Anaconda3\\lib\\site-packages\\ipykernel_launcher.py:5: SettingWithCopyWarning: \n",
      "A value is trying to be set on a copy of a slice from a DataFrame\n",
      "\n",
      "See the caveats in the documentation: http://pandas.pydata.org/pandas-docs/stable/indexing.html#indexing-view-versus-copy\n",
      "  \"\"\"\n",
      "C:\\Users\\shahs_pi8a6lu\\Anaconda3\\lib\\site-packages\\ipykernel_launcher.py:6: SettingWithCopyWarning: \n",
      "A value is trying to be set on a copy of a slice from a DataFrame\n",
      "\n",
      "See the caveats in the documentation: http://pandas.pydata.org/pandas-docs/stable/indexing.html#indexing-view-versus-copy\n",
      "  \n",
      "C:\\Users\\shahs_pi8a6lu\\Anaconda3\\lib\\site-packages\\ipykernel_launcher.py:7: SettingWithCopyWarning: \n",
      "A value is trying to be set on a copy of a slice from a DataFrame\n",
      "\n",
      "See the caveats in the documentation: http://pandas.pydata.org/pandas-docs/stable/indexing.html#indexing-view-versus-copy\n",
      "  import sys\n",
      "C:\\Users\\shahs_pi8a6lu\\Anaconda3\\lib\\site-packages\\ipykernel_launcher.py:8: SettingWithCopyWarning: \n",
      "A value is trying to be set on a copy of a slice from a DataFrame\n",
      "\n",
      "See the caveats in the documentation: http://pandas.pydata.org/pandas-docs/stable/indexing.html#indexing-view-versus-copy\n",
      "  \n"
     ]
    }
   ],
   "source": [
    "#From our observation we observed that \n",
    "#there are inaccuracies with vehicle weights and vehicle_category. \n",
    "#Hence recoding this column as per industry specifications\n",
    "train['vehicle_weight_new'] = train.vehicle_weight\n",
    "train['vehicle_weight_new'][train.vehicle_weight >= 45000] = 'Extra-Heavy Truck'\n",
    "train['vehicle_weight_new'][(train.vehicle_weight >= 20000) & (train.vehicle_weight < 45000)] = 'Heavy truck'\n",
    "train['vehicle_weight_new'][(train.vehicle_weight >= 10000) & (train.vehicle_weight < 20000)] = 'Medium Truck'\n",
    "train['vehicle_weight_new'][train.vehicle_weight < 10000] = 'Light Truck'"
   ]
  },
  {
   "cell_type": "code",
   "execution_count": 840,
   "metadata": {},
   "outputs": [
    {
     "name": "stderr",
     "output_type": "stream",
     "text": [
      "C:\\Users\\shahs_pi8a6lu\\Anaconda3\\lib\\site-packages\\ipykernel_launcher.py:3: SettingWithCopyWarning: \n",
      "A value is trying to be set on a copy of a slice from a DataFrame\n",
      "\n",
      "See the caveats in the documentation: http://pandas.pydata.org/pandas-docs/stable/indexing.html#indexing-view-versus-copy\n",
      "  This is separate from the ipykernel package so we can avoid doing imports until\n",
      "C:\\Users\\shahs_pi8a6lu\\Anaconda3\\lib\\site-packages\\ipykernel_launcher.py:4: SettingWithCopyWarning: \n",
      "A value is trying to be set on a copy of a slice from a DataFrame\n",
      "\n",
      "See the caveats in the documentation: http://pandas.pydata.org/pandas-docs/stable/indexing.html#indexing-view-versus-copy\n",
      "  after removing the cwd from sys.path.\n",
      "C:\\Users\\shahs_pi8a6lu\\Anaconda3\\lib\\site-packages\\ipykernel_launcher.py:5: SettingWithCopyWarning: \n",
      "A value is trying to be set on a copy of a slice from a DataFrame\n",
      "\n",
      "See the caveats in the documentation: http://pandas.pydata.org/pandas-docs/stable/indexing.html#indexing-view-versus-copy\n",
      "  \"\"\"\n"
     ]
    }
   ],
   "source": [
    "# adding income buckets, classes based on Standard Deviation and Quartile Ranges\n",
    "train['annual_income_new'] = train.annual_income\n",
    "train['annual_income_new'][train.annual_income >= 42500] = 'High Income'\n",
    "train['annual_income_new'][(train.annual_income >= 32500) & (train.annual_income < 42500)] = 'Medium Income'\n",
    "train['annual_income_new'][train.annual_income < 32500] = 'Low Income'"
   ]
  },
  {
   "cell_type": "code",
   "execution_count": 841,
   "metadata": {},
   "outputs": [
    {
     "name": "stderr",
     "output_type": "stream",
     "text": [
      "C:\\Users\\shahs_pi8a6lu\\Anaconda3\\lib\\site-packages\\ipykernel_launcher.py:3: SettingWithCopyWarning: \n",
      "A value is trying to be set on a copy of a slice from a DataFrame\n",
      "\n",
      "See the caveats in the documentation: http://pandas.pydata.org/pandas-docs/stable/indexing.html#indexing-view-versus-copy\n",
      "  This is separate from the ipykernel package so we can avoid doing imports until\n",
      "C:\\Users\\shahs_pi8a6lu\\Anaconda3\\lib\\site-packages\\ipykernel_launcher.py:4: SettingWithCopyWarning: \n",
      "A value is trying to be set on a copy of a slice from a DataFrame\n",
      "\n",
      "See the caveats in the documentation: http://pandas.pydata.org/pandas-docs/stable/indexing.html#indexing-view-versus-copy\n",
      "  after removing the cwd from sys.path.\n",
      "C:\\Users\\shahs_pi8a6lu\\Anaconda3\\lib\\site-packages\\ipykernel_launcher.py:5: SettingWithCopyWarning: \n",
      "A value is trying to be set on a copy of a slice from a DataFrame\n",
      "\n",
      "See the caveats in the documentation: http://pandas.pydata.org/pandas-docs/stable/indexing.html#indexing-view-versus-copy\n",
      "  \"\"\"\n",
      "C:\\Users\\shahs_pi8a6lu\\Anaconda3\\lib\\site-packages\\ipykernel_launcher.py:6: SettingWithCopyWarning: \n",
      "A value is trying to be set on a copy of a slice from a DataFrame\n",
      "\n",
      "See the caveats in the documentation: http://pandas.pydata.org/pandas-docs/stable/indexing.html#indexing-view-versus-copy\n",
      "  \n",
      "C:\\Users\\shahs_pi8a6lu\\Anaconda3\\lib\\site-packages\\ipykernel_launcher.py:7: SettingWithCopyWarning: \n",
      "A value is trying to be set on a copy of a slice from a DataFrame\n",
      "\n",
      "See the caveats in the documentation: http://pandas.pydata.org/pandas-docs/stable/indexing.html#indexing-view-versus-copy\n",
      "  import sys\n",
      "C:\\Users\\shahs_pi8a6lu\\Anaconda3\\lib\\site-packages\\ipykernel_launcher.py:8: SettingWithCopyWarning: \n",
      "A value is trying to be set on a copy of a slice from a DataFrame\n",
      "\n",
      "See the caveats in the documentation: http://pandas.pydata.org/pandas-docs/stable/indexing.html#indexing-view-versus-copy\n",
      "  \n"
     ]
    }
   ],
   "source": [
    "## adding Vehicle price buckets, classes based on Standard Deviation and Quartile Ranges\n",
    "train['vehicle_price_new'] = train.vehicle_price\n",
    "train['vehicle_price_new'][train.vehicle_price >= 41500] = 'Very High'\n",
    "train['vehicle_price_new'][(train.vehicle_price >= 29500) & (train.vehicle_price < 41500)] = 'High'\n",
    "train['vehicle_price_new'][(train.vehicle_price >= 21000) & (train.vehicle_price < 29500)] = 'Average High'\n",
    "train['vehicle_price_new'][(train.vehicle_price >= 14250) & (train.vehicle_price < 21000)] = 'Average Low'\n",
    "train['vehicle_price_new'][(train.vehicle_price >= 5000) & (train.vehicle_price < 14250)] = 'Low'\n",
    "train['vehicle_price_new'][train.vehicle_price < 5000] = 'Very Low'"
   ]
  },
  {
   "cell_type": "code",
   "execution_count": 842,
   "metadata": {},
   "outputs": [
    {
     "data": {
      "text/html": [
       "<div>\n",
       "<style scoped>\n",
       "    .dataframe tbody tr th:only-of-type {\n",
       "        vertical-align: middle;\n",
       "    }\n",
       "\n",
       "    .dataframe tbody tr th {\n",
       "        vertical-align: top;\n",
       "    }\n",
       "\n",
       "    .dataframe thead th {\n",
       "        text-align: right;\n",
       "    }\n",
       "</style>\n",
       "<table border=\"1\" class=\"dataframe\">\n",
       "  <thead>\n",
       "    <tr style=\"text-align: right;\">\n",
       "      <th></th>\n",
       "      <th>address_change_ind</th>\n",
       "      <th>age_of_driver</th>\n",
       "      <th>age_of_vehicle</th>\n",
       "      <th>annual_income</th>\n",
       "      <th>claim_est_payout</th>\n",
       "      <th>claim_number</th>\n",
       "      <th>high_education_ind</th>\n",
       "      <th>liab_prct</th>\n",
       "      <th>marital_status</th>\n",
       "      <th>past_num_of_claims</th>\n",
       "      <th>policy_report_filed_ind</th>\n",
       "      <th>safty_rating</th>\n",
       "      <th>vehicle_price</th>\n",
       "      <th>vehicle_weight</th>\n",
       "      <th>witness_present_ind</th>\n",
       "      <th>zip_code</th>\n",
       "    </tr>\n",
       "  </thead>\n",
       "  <tbody>\n",
       "    <tr>\n",
       "      <th>count</th>\n",
       "      <td>29954.000000</td>\n",
       "      <td>29954.000000</td>\n",
       "      <td>29954.000000</td>\n",
       "      <td>29954.000000</td>\n",
       "      <td>29954.000000</td>\n",
       "      <td>29954.000000</td>\n",
       "      <td>29954.000000</td>\n",
       "      <td>29954.00000</td>\n",
       "      <td>29954.000000</td>\n",
       "      <td>29954.000000</td>\n",
       "      <td>29954.000000</td>\n",
       "      <td>29954.000000</td>\n",
       "      <td>29954.000000</td>\n",
       "      <td>29954.000000</td>\n",
       "      <td>29954.000000</td>\n",
       "      <td>29954.000000</td>\n",
       "    </tr>\n",
       "    <tr>\n",
       "      <th>mean</th>\n",
       "      <td>0.576985</td>\n",
       "      <td>43.600754</td>\n",
       "      <td>4.992455</td>\n",
       "      <td>37352.279729</td>\n",
       "      <td>4994.653635</td>\n",
       "      <td>15004.999933</td>\n",
       "      <td>0.698838</td>\n",
       "      <td>49.56984</td>\n",
       "      <td>0.713895</td>\n",
       "      <td>0.501269</td>\n",
       "      <td>0.601088</td>\n",
       "      <td>73.616646</td>\n",
       "      <td>23021.632522</td>\n",
       "      <td>22966.788955</td>\n",
       "      <td>0.233458</td>\n",
       "      <td>49898.644922</td>\n",
       "    </tr>\n",
       "    <tr>\n",
       "      <th>std</th>\n",
       "      <td>0.494046</td>\n",
       "      <td>11.822930</td>\n",
       "      <td>2.246029</td>\n",
       "      <td>2945.782916</td>\n",
       "      <td>2235.227631</td>\n",
       "      <td>8659.500992</td>\n",
       "      <td>0.458771</td>\n",
       "      <td>33.64112</td>\n",
       "      <td>0.451947</td>\n",
       "      <td>0.956058</td>\n",
       "      <td>0.489683</td>\n",
       "      <td>15.362114</td>\n",
       "      <td>12038.661306</td>\n",
       "      <td>12113.727884</td>\n",
       "      <td>0.423038</td>\n",
       "      <td>29141.122995</td>\n",
       "    </tr>\n",
       "    <tr>\n",
       "      <th>min</th>\n",
       "      <td>0.000000</td>\n",
       "      <td>18.000000</td>\n",
       "      <td>0.000000</td>\n",
       "      <td>-1.000000</td>\n",
       "      <td>282.639432</td>\n",
       "      <td>1.000000</td>\n",
       "      <td>0.000000</td>\n",
       "      <td>0.00000</td>\n",
       "      <td>0.000000</td>\n",
       "      <td>0.000000</td>\n",
       "      <td>0.000000</td>\n",
       "      <td>1.000000</td>\n",
       "      <td>2261.507903</td>\n",
       "      <td>2429.429302</td>\n",
       "      <td>0.000000</td>\n",
       "      <td>15001.000000</td>\n",
       "    </tr>\n",
       "    <tr>\n",
       "      <th>25%</th>\n",
       "      <td>0.000000</td>\n",
       "      <td>35.000000</td>\n",
       "      <td>3.000000</td>\n",
       "      <td>35552.000000</td>\n",
       "      <td>3348.439658</td>\n",
       "      <td>7507.250000</td>\n",
       "      <td>0.000000</td>\n",
       "      <td>17.00000</td>\n",
       "      <td>0.000000</td>\n",
       "      <td>0.000000</td>\n",
       "      <td>0.000000</td>\n",
       "      <td>65.000000</td>\n",
       "      <td>14201.519680</td>\n",
       "      <td>14041.104355</td>\n",
       "      <td>0.000000</td>\n",
       "      <td>20111.000000</td>\n",
       "    </tr>\n",
       "    <tr>\n",
       "      <th>50%</th>\n",
       "      <td>1.000000</td>\n",
       "      <td>43.000000</td>\n",
       "      <td>5.000000</td>\n",
       "      <td>37609.000000</td>\n",
       "      <td>4672.123057</td>\n",
       "      <td>15008.500000</td>\n",
       "      <td>1.000000</td>\n",
       "      <td>50.00000</td>\n",
       "      <td>1.000000</td>\n",
       "      <td>0.000000</td>\n",
       "      <td>1.000000</td>\n",
       "      <td>76.000000</td>\n",
       "      <td>20797.854995</td>\n",
       "      <td>20719.644090</td>\n",
       "      <td>0.000000</td>\n",
       "      <td>50028.000000</td>\n",
       "    </tr>\n",
       "    <tr>\n",
       "      <th>75%</th>\n",
       "      <td>1.000000</td>\n",
       "      <td>51.000000</td>\n",
       "      <td>6.000000</td>\n",
       "      <td>39317.000000</td>\n",
       "      <td>6279.906090</td>\n",
       "      <td>22503.750000</td>\n",
       "      <td>1.000000</td>\n",
       "      <td>81.00000</td>\n",
       "      <td>1.000000</td>\n",
       "      <td>1.000000</td>\n",
       "      <td>1.000000</td>\n",
       "      <td>85.000000</td>\n",
       "      <td>29443.164630</td>\n",
       "      <td>29360.468502</td>\n",
       "      <td>0.000000</td>\n",
       "      <td>80038.000000</td>\n",
       "    </tr>\n",
       "    <tr>\n",
       "      <th>max</th>\n",
       "      <td>1.000000</td>\n",
       "      <td>100.000000</td>\n",
       "      <td>16.000000</td>\n",
       "      <td>56275.000000</td>\n",
       "      <td>23903.366250</td>\n",
       "      <td>30000.000000</td>\n",
       "      <td>1.000000</td>\n",
       "      <td>100.00000</td>\n",
       "      <td>1.000000</td>\n",
       "      <td>6.000000</td>\n",
       "      <td>1.000000</td>\n",
       "      <td>100.000000</td>\n",
       "      <td>127063.506000</td>\n",
       "      <td>123016.650400</td>\n",
       "      <td>1.000000</td>\n",
       "      <td>85083.000000</td>\n",
       "    </tr>\n",
       "  </tbody>\n",
       "</table>\n",
       "</div>"
      ],
      "text/plain": [
       "       address_change_ind  age_of_driver  age_of_vehicle  annual_income  \\\n",
       "count        29954.000000   29954.000000    29954.000000   29954.000000   \n",
       "mean             0.576985      43.600754        4.992455   37352.279729   \n",
       "std              0.494046      11.822930        2.246029    2945.782916   \n",
       "min              0.000000      18.000000        0.000000      -1.000000   \n",
       "25%              0.000000      35.000000        3.000000   35552.000000   \n",
       "50%              1.000000      43.000000        5.000000   37609.000000   \n",
       "75%              1.000000      51.000000        6.000000   39317.000000   \n",
       "max              1.000000     100.000000       16.000000   56275.000000   \n",
       "\n",
       "       claim_est_payout  claim_number  high_education_ind    liab_prct  \\\n",
       "count      29954.000000  29954.000000        29954.000000  29954.00000   \n",
       "mean        4994.653635  15004.999933            0.698838     49.56984   \n",
       "std         2235.227631   8659.500992            0.458771     33.64112   \n",
       "min          282.639432      1.000000            0.000000      0.00000   \n",
       "25%         3348.439658   7507.250000            0.000000     17.00000   \n",
       "50%         4672.123057  15008.500000            1.000000     50.00000   \n",
       "75%         6279.906090  22503.750000            1.000000     81.00000   \n",
       "max        23903.366250  30000.000000            1.000000    100.00000   \n",
       "\n",
       "       marital_status  past_num_of_claims  policy_report_filed_ind  \\\n",
       "count    29954.000000        29954.000000             29954.000000   \n",
       "mean         0.713895            0.501269                 0.601088   \n",
       "std          0.451947            0.956058                 0.489683   \n",
       "min          0.000000            0.000000                 0.000000   \n",
       "25%          0.000000            0.000000                 0.000000   \n",
       "50%          1.000000            0.000000                 1.000000   \n",
       "75%          1.000000            1.000000                 1.000000   \n",
       "max          1.000000            6.000000                 1.000000   \n",
       "\n",
       "       safty_rating  vehicle_price  vehicle_weight  witness_present_ind  \\\n",
       "count  29954.000000   29954.000000    29954.000000         29954.000000   \n",
       "mean      73.616646   23021.632522    22966.788955             0.233458   \n",
       "std       15.362114   12038.661306    12113.727884             0.423038   \n",
       "min        1.000000    2261.507903     2429.429302             0.000000   \n",
       "25%       65.000000   14201.519680    14041.104355             0.000000   \n",
       "50%       76.000000   20797.854995    20719.644090             0.000000   \n",
       "75%       85.000000   29443.164630    29360.468502             0.000000   \n",
       "max      100.000000  127063.506000   123016.650400             1.000000   \n",
       "\n",
       "           zip_code  \n",
       "count  29954.000000  \n",
       "mean   49898.644922  \n",
       "std    29141.122995  \n",
       "min    15001.000000  \n",
       "25%    20111.000000  \n",
       "50%    50028.000000  \n",
       "75%    80038.000000  \n",
       "max    85083.000000  "
      ]
     },
     "execution_count": 842,
     "metadata": {},
     "output_type": "execute_result"
    }
   ],
   "source": [
    "train.describe()"
   ]
  },
  {
   "cell_type": "code",
   "execution_count": 847,
   "metadata": {},
   "outputs": [
    {
     "data": {
      "image/png": "[encoded data removed]",
      "text/plain": [
       "<Figure size 1584x216 with 5 Axes>"
      ]
     },
     "metadata": {
      "needs_background": "light"
     },
     "output_type": "display_data"
    }
   ],
   "source": [
    "fig, ax=plt.subplots(1,5,figsize=(22,3))\n",
    "ax[0].set_title('Gender')\n",
    "sns.countplot('gender',hue='fraud',data=train,ax=ax[0])\n",
    "ax[1].set_title('marital_status')\n",
    "sns.countplot('marital_status',hue='fraud',data=train,ax=ax[1])\n",
    "ax[2].set_title('high_education_ind')\n",
    "sns.countplot('high_education_ind',hue='fraud',data=train,ax=ax[2])\n",
    "ax[3].set_title('past_num_of_claims')\n",
    "sns.countplot('past_num_of_claims',hue='fraud',data=train,ax=ax[3]);\n",
    "ax[4].set_title('witness_present_ind')\n",
    "sns.countplot('witness_present_ind',hue='fraud',data=train,ax=ax[4]);"
   ]
  },
  {
   "cell_type": "code",
   "execution_count": 848,
   "metadata": {},
   "outputs": [
    {
     "data": {
      "text/html": [
       "<div>\n",
       "<style scoped>\n",
       "    .dataframe tbody tr th:only-of-type {\n",
       "        vertical-align: middle;\n",
       "    }\n",
       "\n",
       "    .dataframe tbody tr th {\n",
       "        vertical-align: top;\n",
       "    }\n",
       "\n",
       "    .dataframe thead th {\n",
       "        text-align: right;\n",
       "    }\n",
       "</style>\n",
       "<table border=\"1\" class=\"dataframe\">\n",
       "  <thead>\n",
       "    <tr style=\"text-align: right;\">\n",
       "      <th></th>\n",
       "      <th>accident_site</th>\n",
       "      <th>address_change_ind</th>\n",
       "      <th>age_of_driver</th>\n",
       "      <th>age_of_vehicle</th>\n",
       "      <th>annual_income</th>\n",
       "      <th>channel</th>\n",
       "      <th>claim_date</th>\n",
       "      <th>claim_day_of_week</th>\n",
       "      <th>claim_est_payout</th>\n",
       "      <th>claim_number</th>\n",
       "      <th>...</th>\n",
       "      <th>vehicle_price</th>\n",
       "      <th>vehicle_weight</th>\n",
       "      <th>witness_present_ind</th>\n",
       "      <th>zip_code</th>\n",
       "      <th>state</th>\n",
       "      <th>age_of_driver_new</th>\n",
       "      <th>safty_rating_new</th>\n",
       "      <th>vehicle_weight_new</th>\n",
       "      <th>annual_income_new</th>\n",
       "      <th>vehicle_price_new</th>\n",
       "    </tr>\n",
       "  </thead>\n",
       "  <tbody>\n",
       "    <tr>\n",
       "      <th>0</th>\n",
       "      <td>Local</td>\n",
       "      <td>1</td>\n",
       "      <td>41</td>\n",
       "      <td>2</td>\n",
       "      <td>37130</td>\n",
       "      <td>Broker</td>\n",
       "      <td>12/5/2015</td>\n",
       "      <td>Saturday</td>\n",
       "      <td>3011.347886</td>\n",
       "      <td>10743</td>\n",
       "      <td>...</td>\n",
       "      <td>12143.728800</td>\n",
       "      <td>2429.429302</td>\n",
       "      <td>0.0</td>\n",
       "      <td>85001</td>\n",
       "      <td>AZ</td>\n",
       "      <td>Mid-aged Driver</td>\n",
       "      <td>Low Average</td>\n",
       "      <td>Light Truck</td>\n",
       "      <td>Medium Income</td>\n",
       "      <td>Low</td>\n",
       "    </tr>\n",
       "    <tr>\n",
       "      <th>1</th>\n",
       "      <td>Parking Lot</td>\n",
       "      <td>1</td>\n",
       "      <td>44</td>\n",
       "      <td>4</td>\n",
       "      <td>37868</td>\n",
       "      <td>Phone</td>\n",
       "      <td>10/8/2016</td>\n",
       "      <td>Saturday</td>\n",
       "      <td>4687.252280</td>\n",
       "      <td>28633</td>\n",
       "      <td>...</td>\n",
       "      <td>11806.026700</td>\n",
       "      <td>2450.138635</td>\n",
       "      <td>0.0</td>\n",
       "      <td>85024</td>\n",
       "      <td>AZ</td>\n",
       "      <td>Mid-aged Driver</td>\n",
       "      <td>Very Low</td>\n",
       "      <td>Light Truck</td>\n",
       "      <td>Medium Income</td>\n",
       "      <td>Low</td>\n",
       "    </tr>\n",
       "    <tr>\n",
       "      <th>2</th>\n",
       "      <td>Local</td>\n",
       "      <td>1</td>\n",
       "      <td>27</td>\n",
       "      <td>4</td>\n",
       "      <td>32963</td>\n",
       "      <td>Broker</td>\n",
       "      <td>9/29/2016</td>\n",
       "      <td>Thursday</td>\n",
       "      <td>3452.309502</td>\n",
       "      <td>5766</td>\n",
       "      <td>...</td>\n",
       "      <td>11520.568440</td>\n",
       "      <td>2591.881965</td>\n",
       "      <td>1.0</td>\n",
       "      <td>80025</td>\n",
       "      <td>CO</td>\n",
       "      <td>Young Driver</td>\n",
       "      <td>Low</td>\n",
       "      <td>Light Truck</td>\n",
       "      <td>Medium Income</td>\n",
       "      <td>Low</td>\n",
       "    </tr>\n",
       "    <tr>\n",
       "      <th>3</th>\n",
       "      <td>Parking Lot</td>\n",
       "      <td>0</td>\n",
       "      <td>50</td>\n",
       "      <td>2</td>\n",
       "      <td>39102</td>\n",
       "      <td>Broker</td>\n",
       "      <td>2/11/2015</td>\n",
       "      <td>Wednesday</td>\n",
       "      <td>3187.409496</td>\n",
       "      <td>15895</td>\n",
       "      <td>...</td>\n",
       "      <td>8848.202851</td>\n",
       "      <td>2713.474095</td>\n",
       "      <td>0.0</td>\n",
       "      <td>80022</td>\n",
       "      <td>CO</td>\n",
       "      <td>Mid-aged Driver</td>\n",
       "      <td>High Average</td>\n",
       "      <td>Light Truck</td>\n",
       "      <td>Medium Income</td>\n",
       "      <td>Low</td>\n",
       "    </tr>\n",
       "    <tr>\n",
       "      <th>4</th>\n",
       "      <td>Local</td>\n",
       "      <td>0</td>\n",
       "      <td>37</td>\n",
       "      <td>7</td>\n",
       "      <td>36103</td>\n",
       "      <td>Broker</td>\n",
       "      <td>12/26/2016</td>\n",
       "      <td>Monday</td>\n",
       "      <td>2982.306201</td>\n",
       "      <td>23799</td>\n",
       "      <td>...</td>\n",
       "      <td>14557.293570</td>\n",
       "      <td>2733.726122</td>\n",
       "      <td>1.0</td>\n",
       "      <td>50013</td>\n",
       "      <td>IA</td>\n",
       "      <td>Mid-aged Driver</td>\n",
       "      <td>High</td>\n",
       "      <td>Light Truck</td>\n",
       "      <td>Medium Income</td>\n",
       "      <td>Average Low</td>\n",
       "    </tr>\n",
       "  </tbody>\n",
       "</table>\n",
       "<p>5 rows × 32 columns</p>\n",
       "</div>"
      ],
      "text/plain": [
       "  accident_site  address_change_ind  age_of_driver  age_of_vehicle  \\\n",
       "0         Local                   1             41               2   \n",
       "1   Parking Lot                   1             44               4   \n",
       "2         Local                   1             27               4   \n",
       "3   Parking Lot                   0             50               2   \n",
       "4         Local                   0             37               7   \n",
       "\n",
       "   annual_income channel  claim_date claim_day_of_week  claim_est_payout  \\\n",
       "0          37130  Broker   12/5/2015          Saturday       3011.347886   \n",
       "1          37868   Phone   10/8/2016          Saturday       4687.252280   \n",
       "2          32963  Broker   9/29/2016          Thursday       3452.309502   \n",
       "3          39102  Broker   2/11/2015         Wednesday       3187.409496   \n",
       "4          36103  Broker  12/26/2016            Monday       2982.306201   \n",
       "\n",
       "   claim_number        ...        vehicle_price vehicle_weight  \\\n",
       "0         10743        ...         12143.728800    2429.429302   \n",
       "1         28633        ...         11806.026700    2450.138635   \n",
       "2          5766        ...         11520.568440    2591.881965   \n",
       "3         15895        ...          8848.202851    2713.474095   \n",
       "4         23799        ...         14557.293570    2733.726122   \n",
       "\n",
       "   witness_present_ind  zip_code state  age_of_driver_new  safty_rating_new  \\\n",
       "0                  0.0     85001    AZ    Mid-aged Driver       Low Average   \n",
       "1                  0.0     85024    AZ    Mid-aged Driver          Very Low   \n",
       "2                  1.0     80025    CO       Young Driver               Low   \n",
       "3                  0.0     80022    CO    Mid-aged Driver      High Average   \n",
       "4                  1.0     50013    IA    Mid-aged Driver              High   \n",
       "\n",
       "   vehicle_weight_new  annual_income_new vehicle_price_new  \n",
       "0         Light Truck      Medium Income               Low  \n",
       "1         Light Truck      Medium Income               Low  \n",
       "2         Light Truck      Medium Income               Low  \n",
       "3         Light Truck      Medium Income               Low  \n",
       "4         Light Truck      Medium Income       Average Low  \n",
       "\n",
       "[5 rows x 32 columns]"
      ]
     },
     "execution_count": 848,
     "metadata": {},
     "output_type": "execute_result"
    }
   ],
   "source": [
    "train.head()"
   ]
  },
  {
   "cell_type": "code",
   "execution_count": 849,
   "metadata": {},
   "outputs": [],
   "source": [
    "train['IsWeekday']=np.where((train['claim_day_of_week']=='Saturday')|(train['claim_day_of_week']=='Sunday'),0,1)"
   ]
  },
  {
   "cell_type": "code",
   "execution_count": 850,
   "metadata": {},
   "outputs": [
    {
     "data": {
      "text/html": [
       "<div>\n",
       "<style scoped>\n",
       "    .dataframe tbody tr th:only-of-type {\n",
       "        vertical-align: middle;\n",
       "    }\n",
       "\n",
       "    .dataframe tbody tr th {\n",
       "        vertical-align: top;\n",
       "    }\n",
       "\n",
       "    .dataframe thead th {\n",
       "        text-align: right;\n",
       "    }\n",
       "</style>\n",
       "<table border=\"1\" class=\"dataframe\">\n",
       "  <thead>\n",
       "    <tr style=\"text-align: right;\">\n",
       "      <th></th>\n",
       "      <th>claim_date</th>\n",
       "      <th>claim_quarter</th>\n",
       "      <th>claim_month</th>\n",
       "      <th>claim_year</th>\n",
       "    </tr>\n",
       "  </thead>\n",
       "  <tbody>\n",
       "    <tr>\n",
       "      <th>0</th>\n",
       "      <td>2015-12-05</td>\n",
       "      <td>2015Q4</td>\n",
       "      <td>2015-12</td>\n",
       "      <td>2015</td>\n",
       "    </tr>\n",
       "    <tr>\n",
       "      <th>1</th>\n",
       "      <td>2016-10-08</td>\n",
       "      <td>2016Q4</td>\n",
       "      <td>2016-10</td>\n",
       "      <td>2016</td>\n",
       "    </tr>\n",
       "    <tr>\n",
       "      <th>2</th>\n",
       "      <td>2016-09-29</td>\n",
       "      <td>2016Q3</td>\n",
       "      <td>2016-09</td>\n",
       "      <td>2016</td>\n",
       "    </tr>\n",
       "    <tr>\n",
       "      <th>3</th>\n",
       "      <td>2015-02-11</td>\n",
       "      <td>2015Q1</td>\n",
       "      <td>2015-02</td>\n",
       "      <td>2015</td>\n",
       "    </tr>\n",
       "    <tr>\n",
       "      <th>4</th>\n",
       "      <td>2016-12-26</td>\n",
       "      <td>2016Q4</td>\n",
       "      <td>2016-12</td>\n",
       "      <td>2016</td>\n",
       "    </tr>\n",
       "  </tbody>\n",
       "</table>\n",
       "</div>"
      ],
      "text/plain": [
       "  claim_date claim_quarter claim_month claim_year\n",
       "0 2015-12-05        2015Q4     2015-12       2015\n",
       "1 2016-10-08        2016Q4     2016-10       2016\n",
       "2 2016-09-29        2016Q3     2016-09       2016\n",
       "3 2015-02-11        2015Q1     2015-02       2015\n",
       "4 2016-12-26        2016Q4     2016-12       2016"
      ]
     },
     "execution_count": 850,
     "metadata": {},
     "output_type": "execute_result"
    }
   ],
   "source": [
    "train['claim_date'] = pd.to_datetime(train.claim_date)\n",
    "train['claim_quarter'] = pd.PeriodIndex(train.claim_date, freq = 'Q') \n",
    "train['claim_month'] = pd.PeriodIndex(train.claim_date, freq = 'M') \n",
    "train['claim_year'] = pd.PeriodIndex(train.claim_date, freq = 'Y') \n",
    "train[['claim_date','claim_quarter','claim_month','claim_year']].head()"
   ]
  },
  {
   "cell_type": "code",
   "execution_count": 854,
   "metadata": {},
   "outputs": [
    {
     "data": {
      "text/plain": [
       "<matplotlib.axes._subplots.AxesSubplot at 0x2761b634080>"
      ]
     },
     "execution_count": 854,
     "metadata": {},
     "output_type": "execute_result"
    },
    {
     "data": {
      "image/png": "[encoded data removed]",
      "text/plain": [
       "<Figure size 2160x216 with 2 Axes>"
      ]
     },
     "metadata": {
      "needs_background": "light"
     },
     "output_type": "display_data"
    }
   ],
   "source": [
    "fig, ax=plt.subplots(1,2,figsize=(30,3))\n",
    "ax[0].set_title('claim_quarter')\n",
    "sns.countplot('claim_quarter',hue='fraud',data=train,ax=ax[0])\n",
    "ax[1].set_title('claim_year')\n",
    "sns.countplot('claim_year',hue='fraud',data=train,ax=ax[1])"
   ]
  },
  {
   "cell_type": "code",
   "execution_count": 855,
   "metadata": {},
   "outputs": [
    {
     "data": {
      "text/plain": [
       "vehicle_category\n",
       "Compact    4.989182\n",
       "Large      4.995274\n",
       "Medium     4.992953\n",
       "Name: age_of_vehicle, dtype: float64"
      ]
     },
     "execution_count": 855,
     "metadata": {},
     "output_type": "execute_result"
    }
   ],
   "source": [
    "train.groupby(['vehicle_category'])['age_of_vehicle'].mean()"
   ]
  },
  {
   "cell_type": "code",
   "execution_count": 856,
   "metadata": {},
   "outputs": [],
   "source": [
    "train['age_of_vehicle'] = train.groupby(['vehicle_category'])['age_of_vehicle'].transform(lambda x: x.fillna(x.mean()))"
   ]
  },
  {
   "cell_type": "code",
   "execution_count": 857,
   "metadata": {},
   "outputs": [
    {
     "name": "stderr",
     "output_type": "stream",
     "text": [
      "C:\\Users\\shahs_pi8a6lu\\Anaconda3\\lib\\site-packages\\ipykernel_launcher.py:3: SettingWithCopyWarning: \n",
      "A value is trying to be set on a copy of a slice from a DataFrame\n",
      "\n",
      "See the caveats in the documentation: http://pandas.pydata.org/pandas-docs/stable/indexing.html#indexing-view-versus-copy\n",
      "  This is separate from the ipykernel package so we can avoid doing imports until\n",
      "C:\\Users\\shahs_pi8a6lu\\Anaconda3\\lib\\site-packages\\ipykernel_launcher.py:4: SettingWithCopyWarning: \n",
      "A value is trying to be set on a copy of a slice from a DataFrame\n",
      "\n",
      "See the caveats in the documentation: http://pandas.pydata.org/pandas-docs/stable/indexing.html#indexing-view-versus-copy\n",
      "  after removing the cwd from sys.path.\n",
      "C:\\Users\\shahs_pi8a6lu\\Anaconda3\\lib\\site-packages\\ipykernel_launcher.py:5: SettingWithCopyWarning: \n",
      "A value is trying to be set on a copy of a slice from a DataFrame\n",
      "\n",
      "See the caveats in the documentation: http://pandas.pydata.org/pandas-docs/stable/indexing.html#indexing-view-versus-copy\n",
      "  \"\"\"\n",
      "C:\\Users\\shahs_pi8a6lu\\Anaconda3\\lib\\site-packages\\ipykernel_launcher.py:6: SettingWithCopyWarning: \n",
      "A value is trying to be set on a copy of a slice from a DataFrame\n",
      "\n",
      "See the caveats in the documentation: http://pandas.pydata.org/pandas-docs/stable/indexing.html#indexing-view-versus-copy\n",
      "  \n"
     ]
    }
   ],
   "source": [
    "# adding age of vehcile buckets, classes based on Standard Deviation and Quartile Ranges\n",
    "train['age_of_vehicle_new'] = train.age_of_vehicle\n",
    "train['age_of_vehicle_new'][train.age_of_vehicle >= 6] = 'Very High'\n",
    "train['age_of_vehicle_new'][(train.age_of_vehicle >= 5) & (train.age_of_vehicle < 6)] = 'High'\n",
    "train['age_of_vehicle_new'][(train.age_of_vehicle >= 3) & (train.age_of_vehicle < 5)] = 'Low'\n",
    "train['age_of_vehicle_new'][train.age_of_vehicle < 3] = 'Very Low'"
   ]
  },
  {
   "cell_type": "code",
   "execution_count": 858,
   "metadata": {},
   "outputs": [],
   "source": [
    "train['gender'] = train['gender'].astype('object')\n",
    "train['marital_status'] = train['marital_status'].astype('object')\n",
    "train['high_education_ind'] = train['high_education_ind'].astype('object')\n",
    "train['address_change_ind'] = train['address_change_ind'].astype('object')\n",
    "train['living_status'] = train['living_status'].astype('object')\n",
    "train['IsWeekday'] = train['IsWeekday'].astype('object')\n",
    "train['accident_site'] = train['accident_site'].astype('object')\n",
    "train['witness_present_ind'] = train['witness_present_ind'].astype('object')\n",
    "train['channel'] = train['channel'].astype('object')\n",
    "train['policy_report_filed_ind'] = train['policy_report_filed_ind'].astype('object')\n",
    "#data['vehicle_category'] = data['vehicle_category'].astype('object')\n",
    "train['age_of_vehicle_new'] = train['age_of_vehicle_new'].astype('object')\n",
    "train['age_of_driver_new'] = train['age_of_driver_new'].astype('object')\n",
    "train['safty_rating_new'] = train['safty_rating_new'].astype('object')\n",
    "#train['vehicle_price_buckets'] = train['vehicle_price_buckets'].astype('object')\n",
    "train['vehicle_weight_new'] = train['vehicle_weight_new'].astype('object')\n",
    "train['annual_income_new'] = train['annual_income_new'].astype('object')\n"
   ]
  },
  {
   "cell_type": "code",
   "execution_count": 859,
   "metadata": {},
   "outputs": [],
   "source": [
    "def categorical_features(df):\n",
    "    features = [col for col in list(df.columns) if df[col].dtype == 'object']\n",
    "    return features"
   ]
  },
  {
   "cell_type": "code",
   "execution_count": 860,
   "metadata": {},
   "outputs": [],
   "source": [
    "def factorize_categorical(df, catg):\n",
    "    for col in catg:\n",
    "        df[col], _ = pd.factorize(df[col])\n",
    "    return df "
   ]
  },
  {
   "cell_type": "code",
   "execution_count": 861,
   "metadata": {},
   "outputs": [],
   "source": [
    "def get_dummies(df, dum):\n",
    "    for col in dum:\n",
    "        df = pd.concat([df, pd.get_dummies(df[col], prefix=col)], axis=1)\n",
    "    return df "
   ]
  },
  {
   "cell_type": "code",
   "execution_count": 862,
   "metadata": {},
   "outputs": [],
   "source": [
    "#why to use dummy variables in regression:\n",
    "#dummy variables are useful as they enable us to use single regression equation to represent multiple groups i.e we need not \n",
    "#write separate equation models for each subgroup\n",
    "\n",
    "#data=rawdata.copy()\n",
    "#train['age_of_driver_new']=pd.cut(train['age_of_driver'],bins=[0,30, 50, 70, 90,102])\n",
    "#train=pd.get_dummies(train,columns=['living_status','accident_site','channel','vehicle_category','age_of_driver_new'],prefix_sep='_')\n",
    "#data.drop(['zip_code','claim_date','claim_est_payout','vehicle_price','state_id','channel','policy_report_filed_ind','vehicle_weight','vehicle_color','vehicle_category','liab_prct'],axis=1,inplace=True)\n",
    "train.drop(['claim_number','annual_income','vehicle_weight','vehicle_category','zip_code','claim_date','age_of_driver','age_of_vehicle','vehicle_price','claim_day_of_week','vehicle_color','state','claim_quarter','claim_year','claim_month','set'],axis=1,inplace=True)\n"
   ]
  },
  {
   "cell_type": "code",
   "execution_count": 863,
   "metadata": {},
   "outputs": [],
   "source": [
    "train_new = train.loc[train['fraud'] !='N/A']"
   ]
  },
  {
   "cell_type": "code",
   "execution_count": 864,
   "metadata": {},
   "outputs": [],
   "source": [
    "test_new = train.loc[train['fraud'] == \"N/A\"]"
   ]
  },
  {
   "cell_type": "code",
   "execution_count": 865,
   "metadata": {},
   "outputs": [
    {
     "name": "stdout",
     "output_type": "stream",
     "text": [
      "['accident_site', 'address_change_ind', 'channel', 'fraud', 'gender', 'high_education_ind', 'living_status', 'marital_status', 'policy_report_filed_ind', 'witness_present_ind', 'age_of_driver_new', 'safty_rating_new', 'vehicle_weight_new', 'annual_income_new', 'vehicle_price_new', 'IsWeekday', 'age_of_vehicle_new']\n"
     ]
    }
   ],
   "source": [
    "train_cat = categorical_features(train_new)\n",
    "print(train_cat)\n"
   ]
  },
  {
   "cell_type": "code",
   "execution_count": 866,
   "metadata": {},
   "outputs": [
    {
     "name": "stdout",
     "output_type": "stream",
     "text": [
      "['accident_site', 'address_change_ind', 'channel', 'fraud', 'gender', 'high_education_ind', 'living_status', 'marital_status', 'policy_report_filed_ind', 'witness_present_ind', 'age_of_driver_new', 'safty_rating_new', 'vehicle_weight_new', 'annual_income_new', 'vehicle_price_new', 'IsWeekday', 'age_of_vehicle_new']\n"
     ]
    }
   ],
   "source": [
    "test_cat = categorical_features(test_new)\n",
    "print(test_cat)"
   ]
  },
  {
   "cell_type": "code",
   "execution_count": 867,
   "metadata": {},
   "outputs": [
    {
     "name": "stderr",
     "output_type": "stream",
     "text": [
      "C:\\Users\\shahs_pi8a6lu\\Anaconda3\\lib\\site-packages\\ipykernel_launcher.py:3: SettingWithCopyWarning: \n",
      "A value is trying to be set on a copy of a slice from a DataFrame.\n",
      "Try using .loc[row_indexer,col_indexer] = value instead\n",
      "\n",
      "See the caveats in the documentation: http://pandas.pydata.org/pandas-docs/stable/indexing.html#indexing-view-versus-copy\n",
      "  This is separate from the ipykernel package so we can avoid doing imports until\n"
     ]
    }
   ],
   "source": [
    "train_new = factorize_categorical( train_new, train_cat)"
   ]
  },
  {
   "cell_type": "code",
   "execution_count": 868,
   "metadata": {},
   "outputs": [
    {
     "name": "stderr",
     "output_type": "stream",
     "text": [
      "C:\\Users\\shahs_pi8a6lu\\Anaconda3\\lib\\site-packages\\ipykernel_launcher.py:3: SettingWithCopyWarning: \n",
      "A value is trying to be set on a copy of a slice from a DataFrame.\n",
      "Try using .loc[row_indexer,col_indexer] = value instead\n",
      "\n",
      "See the caveats in the documentation: http://pandas.pydata.org/pandas-docs/stable/indexing.html#indexing-view-versus-copy\n",
      "  This is separate from the ipykernel package so we can avoid doing imports until\n"
     ]
    }
   ],
   "source": [
    "test_new = factorize_categorical( test_new, test_cat)"
   ]
  },
  {
   "cell_type": "code",
   "execution_count": 869,
   "metadata": {},
   "outputs": [],
   "source": [
    "train_new = get_dummies(train_new, train_cat)"
   ]
  },
  {
   "cell_type": "code",
   "execution_count": 870,
   "metadata": {},
   "outputs": [],
   "source": [
    "test_new = get_dummies(test_new,test_cat)"
   ]
  },
  {
   "cell_type": "code",
   "execution_count": 871,
   "metadata": {},
   "outputs": [],
   "source": [
    "test_new = test_new.drop(['fraud','fraud_0'], axis = 1)"
   ]
  },
  {
   "cell_type": "code",
   "execution_count": 872,
   "metadata": {},
   "outputs": [],
   "source": [
    "X_train = train_new.drop(['fraud_0','fraud_1','fraud'], axis = 1)\n",
    "Y_train = train_new['fraud']"
   ]
  },
  {
   "cell_type": "code",
   "execution_count": 873,
   "metadata": {},
   "outputs": [
    {
     "data": {
      "text/plain": [
       "((13479, 67), (4493, 67), (13479,), (4493,))"
      ]
     },
     "execution_count": 873,
     "metadata": {},
     "output_type": "execute_result"
    }
   ],
   "source": [
    "# to divide train and test set\n",
    "from sklearn.model_selection import train_test_split\n",
    "#X_train = train_new.drop(['fraud'], axis = 1)\n",
    "#X_train = train_\n",
    "#Y_train = train_dummies['fraud']\n",
    "X_train, X_test, Y_train, Y_test = train_test_split(X_train,Y_train,test_size=0.25,random_state=0)\n",
    "X_train.shape, X_test.shape, Y_train.shape, Y_test.shape"
   ]
  },
  {
   "cell_type": "code",
   "execution_count": 874,
   "metadata": {},
   "outputs": [],
   "source": [
    "# Splitting train data again to apply SMOTE\n",
    "from imblearn import under_sampling, over_sampling\n",
    "from imblearn.over_sampling import SMOTE\n",
    "\n",
    "sm = SMOTE(random_state=42, ratio =1)\n",
    "X_train_sm, Y_train_sm = sm.fit_sample(X_train, Y_train)"
   ]
  },
  {
   "cell_type": "code",
   "execution_count": 875,
   "metadata": {},
   "outputs": [],
   "source": [
    "from sklearn.preprocessing import StandardScaler\n",
    "sc = StandardScaler()\n",
    "X_train_std = sc.fit_transform(X_train_sm)\n",
    "X_test_std = sc.transform(X_test)\n",
    "test_new_std = sc.transform(test_new)"
   ]
  },
  {
   "cell_type": "code",
   "execution_count": 876,
   "metadata": {},
   "outputs": [
    {
     "name": "stderr",
     "output_type": "stream",
     "text": [
      "C:\\Users\\shahs_pi8a6lu\\Anaconda3\\lib\\site-packages\\sklearn\\linear_model\\logistic.py:432: FutureWarning: Default solver will be changed to 'lbfgs' in 0.22. Specify a solver to silence this warning.\n",
      "  FutureWarning)\n"
     ]
    },
    {
     "name": "stdout",
     "output_type": "stream",
     "text": [
      "Train/Test split results:\n",
      "LogisticRegression accuracy is 0.650\n",
      "LogisticRegression log_loss is 0.627\n",
      "LogisticRegression auc is 0.724\n"
     ]
    },
    {
     "data": {
      "image/png": "[encoded data removed]",
      "text/plain": [
       "<Figure size 432x288 with 1 Axes>"
      ]
     },
     "metadata": {
      "needs_background": "light"
     },
     "output_type": "display_data"
    },
    {
     "name": "stdout",
     "output_type": "stream",
     "text": [
      "Using a threshold of 0.273 guarantees a sensitivity of 0.951 and a specificity of 0.280, i.e. a false positive rate of 71.95%.\n"
     ]
    }
   ],
   "source": [
    "from sklearn.model_selection import train_test_split, cross_val_score\n",
    "from sklearn.metrics import accuracy_score, classification_report, precision_score, recall_score \n",
    "from sklearn.metrics import confusion_matrix, precision_recall_curve, roc_curve, auc, log_loss\n",
    "from sklearn.linear_model import LogisticRegression\n",
    "\n",
    "# check classification scores of logistic regression\n",
    "log_reg = LogisticRegression()\n",
    "log_reg.fit(X_train_std, Y_train_sm)\n",
    "Y_Pred = log_reg.predict(X_test_std)\n",
    "Y_Pred_Prob = log_reg.predict_proba(X_test_std)[:, 1]\n",
    "\n",
    "[fpr, tpr, thr] = roc_curve(Y_test, Y_Pred_Prob)\n",
    "print('Train/Test split results:')\n",
    "print(log_reg.__class__.__name__+\" accuracy is %2.3f\" % accuracy_score(Y_test, Y_Pred))\n",
    "print(log_reg.__class__.__name__+\" log_loss is %2.3f\" % log_loss(Y_test, Y_Pred_Prob))\n",
    "print(log_reg.__class__.__name__+\" auc is %2.3f\" % auc(fpr, tpr))\n",
    "\n",
    "idx = np.min(np.where(tpr > 0.95)) # index of the first threshold for which the sensibility > 0.95\n",
    "plt.figure()\n",
    "plt.plot(fpr, tpr, color='coral', label='ROC curve (area = %0.3f)' % auc(fpr, tpr))\n",
    "plt.plot([0, 1], [0, 1], 'k--')\n",
    "plt.plot([0,fpr[idx]], [tpr[idx],tpr[idx]], 'k--', color='blue')\n",
    "plt.plot([fpr[idx],fpr[idx]], [0,tpr[idx]], 'k--', color='blue')\n",
    "plt.xlim([0.0, 1.0])\n",
    "plt.ylim([0.0, 1.05])\n",
    "plt.xlabel('False Positive Rate (1 - specificity)', fontsize=14)\n",
    "plt.ylabel('True Positive Rate (recall)', fontsize=14)\n",
    "plt.title('Receiver operating characteristic (ROC) curve')\n",
    "plt.legend(loc=\"lower right\")\n",
    "plt.show()\n",
    "\n",
    "print(\"Using a threshold of %.3f \" % thr[idx] + \"guarantees a sensitivity of %.3f \" % tpr[idx] +  \n",
    "      \"and a specificity of %.3f\" % (1-fpr[idx]) + \n",
    "      \", i.e. a false positive rate of %.2f%%.\" % (np.array(fpr[idx])*100))"
   ]
  },
  {
   "cell_type": "code",
   "execution_count": 877,
   "metadata": {},
   "outputs": [
    {
     "name": "stdout",
     "output_type": "stream",
     "text": [
      "Accuracy of Decision Tree classifier on training set: 1.00\n",
      "Accuracy of Decision Tree classifier on test set: 0.74\n",
      "[[3133  707]\n",
      " [ 476  177]]\n",
      "              precision    recall  f1-score   support\n",
      "\n",
      "           0       0.87      0.82      0.84      3840\n",
      "           1       0.20      0.27      0.23       653\n",
      "\n",
      "    accuracy                           0.74      4493\n",
      "   macro avg       0.53      0.54      0.54      4493\n",
      "weighted avg       0.77      0.74      0.75      4493\n",
      "\n"
     ]
    }
   ],
   "source": [
    "#fit a decision tree classifier\n",
    "from sklearn.tree import DecisionTreeClassifier\n",
    "clf = DecisionTreeClassifier().fit(X_train_std, Y_train_sm)\n",
    "print('Accuracy of Decision Tree classifier on training set: {:.2f}'\n",
    "     .format(clf.score(X_train_std, Y_train_sm)))\n",
    "print('Accuracy of Decision Tree classifier on test set: {:.2f}'\n",
    "     .format(clf.score(X_test_std, Y_test)))\n",
    "\n",
    "pred_clf = clf.predict(X_test_std)\n",
    "print(confusion_matrix(Y_test, pred_clf))\n",
    "print(classification_report(Y_test, pred_clf))"
   ]
  },
  {
   "cell_type": "code",
   "execution_count": 878,
   "metadata": {},
   "outputs": [
    {
     "name": "stderr",
     "output_type": "stream",
     "text": [
      "C:\\Users\\shahs_pi8a6lu\\Anaconda3\\lib\\site-packages\\sklearn\\ensemble\\forest.py:245: FutureWarning: The default value of n_estimators will change from 10 in version 0.20 to 100 in 0.22.\n",
      "  \"10 in version 0.20 to 100 in 0.22.\", FutureWarning)\n"
     ]
    },
    {
     "name": "stdout",
     "output_type": "stream",
     "text": [
      "Accuracy of Random Forest Classifier on training set: 0.99\n",
      "Accuracy of Random Forest Classifier on test set: 0.85\n",
      "[[3770   70]\n",
      " [ 621   32]]\n",
      "              precision    recall  f1-score   support\n",
      "\n",
      "           0       0.86      0.98      0.92      3840\n",
      "           1       0.31      0.05      0.08       653\n",
      "\n",
      "    accuracy                           0.85      4493\n",
      "   macro avg       0.59      0.52      0.50      4493\n",
      "weighted avg       0.78      0.85      0.80      4493\n",
      "\n"
     ]
    }
   ],
   "source": [
    "#fit a random forest classifier\n",
    "from sklearn.ensemble import RandomForestClassifier\n",
    "rfc = RandomForestClassifier()\n",
    "rfc.fit(X_train_std, Y_train_sm)\n",
    "print('Accuracy of Random Forest Classifier on training set: {:.2f}'\n",
    "     .format(rfc.score(X_train_std, Y_train_sm)))\n",
    "print('Accuracy of Random Forest Classifier on test set: {:.2f}'\n",
    "     .format(rfc.score(X_test_std, Y_test)))\n",
    "\n",
    "pred_rfc = rfc.predict(X_test_std)\n",
    "print(confusion_matrix(Y_test, pred_rfc))\n",
    "print(classification_report(Y_test, pred_rfc))"
   ]
  },
  {
   "cell_type": "code",
   "execution_count": 879,
   "metadata": {},
   "outputs": [
    {
     "data": {
      "text/plain": [
       "<matplotlib.axes._subplots.AxesSubplot at 0x2761b666358>"
      ]
     },
     "execution_count": 879,
     "metadata": {},
     "output_type": "execute_result"
    },
    {
     "data": {
      "image/png": "[encoded data removed]",
      "text/plain": [
       "<Figure size 3600x720 with 1 Axes>"
      ]
     },
     "metadata": {
      "needs_background": "light"
     },
     "output_type": "display_data"
    }
   ],
   "source": [
    "X_train_columns = X_train.columns\n",
    "importance = pd.Series(rfc.feature_importances_)\n",
    "importance.index = X_train_columns\n",
    "importance.sort_values(inplace=True, ascending=False)\n",
    "importance.plot.bar(figsize=(50,10))"
   ]
  },
  {
   "cell_type": "code",
   "execution_count": null,
   "metadata": {},
   "outputs": [],
   "source": [
    "#Important features are address change indicator, age of driver, high education = 0, accident site, claimest payout,past claims,\n",
    "#marital status,high education,liability pct, safety rating"
   ]
  },
  {
   "cell_type": "code",
   "execution_count": 880,
   "metadata": {},
   "outputs": [
    {
     "name": "stdout",
     "output_type": "stream",
     "text": [
      "Accuracy of XGboost on training set: 0.90\n",
      "Accuracy of XGboost on test set: 0.85\n",
      "[[3816   24]\n",
      " [ 639   14]]\n",
      "              precision    recall  f1-score   support\n",
      "\n",
      "           0       0.86      0.99      0.92      3840\n",
      "           1       0.37      0.02      0.04       653\n",
      "\n",
      "    accuracy                           0.85      4493\n",
      "   macro avg       0.61      0.51      0.48      4493\n",
      "weighted avg       0.79      0.85      0.79      4493\n",
      "\n"
     ]
    },
    {
     "data": {
      "image/png": "[encoded data removed]",
      "text/plain": [
       "<Figure size 720x720 with 1 Axes>"
      ]
     },
     "metadata": {
      "needs_background": "light"
     },
     "output_type": "display_data"
    }
   ],
   "source": [
    "#fit a xgboost classifier\n",
    "import xgboost as xgb\n",
    "from xgboost import plot_importance\n",
    "xgb_model = xgb.XGBClassifier(learning_rate= 0.1, max_depth = 5, alpha = 10, n_estimators = 10)\n",
    "\n",
    "eval_set = [(X_test_std,Y_test)]\n",
    "xgb_model.fit(X_train_std,Y_train_sm, eval_set=eval_set, verbose=False)\n",
    "print('Accuracy of XGboost on training set: {:.2f}'\n",
    "     .format(xgb_model.score(X_train_std, Y_train_sm)))\n",
    "print('Accuracy of XGboost on test set: {:.2f}'\n",
    "     .format(xgb_model.score(X_test_std, Y_test)))\n",
    "\n",
    "pred_xgb = xgb_model.predict(X_test_std)\n",
    "print(confusion_matrix(Y_test, pred_xgb))\n",
    "print(classification_report(Y_test, pred_xgb))\n",
    "ax = plot_importance(xgb_model)\n",
    "fig = ax.figure\n",
    "fig.set_size_inches(10, 10)"
   ]
  },
  {
   "cell_type": "code",
   "execution_count": 881,
   "metadata": {},
   "outputs": [
    {
     "data": {
      "text/html": [
       "<div>\n",
       "<style scoped>\n",
       "    .dataframe tbody tr th:only-of-type {\n",
       "        vertical-align: middle;\n",
       "    }\n",
       "\n",
       "    .dataframe tbody tr th {\n",
       "        vertical-align: top;\n",
       "    }\n",
       "\n",
       "    .dataframe thead th {\n",
       "        text-align: right;\n",
       "    }\n",
       "</style>\n",
       "<table border=\"1\" class=\"dataframe\">\n",
       "  <thead>\n",
       "    <tr style=\"text-align: right;\">\n",
       "      <th></th>\n",
       "      <th>accident_site</th>\n",
       "      <th>address_change_ind</th>\n",
       "      <th>channel</th>\n",
       "      <th>claim_est_payout</th>\n",
       "      <th>gender</th>\n",
       "      <th>high_education_ind</th>\n",
       "      <th>liab_prct</th>\n",
       "      <th>living_status</th>\n",
       "      <th>marital_status</th>\n",
       "      <th>past_num_of_claims</th>\n",
       "      <th>...</th>\n",
       "      <th>vehicle_price_new_3</th>\n",
       "      <th>vehicle_price_new_4</th>\n",
       "      <th>vehicle_price_new_5</th>\n",
       "      <th>IsWeekday_0</th>\n",
       "      <th>IsWeekday_1</th>\n",
       "      <th>age_of_vehicle_new_0</th>\n",
       "      <th>age_of_vehicle_new_1</th>\n",
       "      <th>age_of_vehicle_new_2</th>\n",
       "      <th>age_of_vehicle_new_3</th>\n",
       "      <th>fraud_pred</th>\n",
       "    </tr>\n",
       "  </thead>\n",
       "  <tbody>\n",
       "    <tr>\n",
       "      <th>0</th>\n",
       "      <td>0</td>\n",
       "      <td>0</td>\n",
       "      <td>0</td>\n",
       "      <td>5196.552552</td>\n",
       "      <td>0</td>\n",
       "      <td>0</td>\n",
       "      <td>25</td>\n",
       "      <td>0</td>\n",
       "      <td>0</td>\n",
       "      <td>0</td>\n",
       "      <td>...</td>\n",
       "      <td>0</td>\n",
       "      <td>0</td>\n",
       "      <td>0</td>\n",
       "      <td>1</td>\n",
       "      <td>0</td>\n",
       "      <td>1</td>\n",
       "      <td>0</td>\n",
       "      <td>0</td>\n",
       "      <td>0</td>\n",
       "      <td>0</td>\n",
       "    </tr>\n",
       "    <tr>\n",
       "      <th>1</th>\n",
       "      <td>0</td>\n",
       "      <td>1</td>\n",
       "      <td>1</td>\n",
       "      <td>7381.165248</td>\n",
       "      <td>0</td>\n",
       "      <td>0</td>\n",
       "      <td>50</td>\n",
       "      <td>0</td>\n",
       "      <td>0</td>\n",
       "      <td>0</td>\n",
       "      <td>...</td>\n",
       "      <td>0</td>\n",
       "      <td>0</td>\n",
       "      <td>0</td>\n",
       "      <td>1</td>\n",
       "      <td>0</td>\n",
       "      <td>1</td>\n",
       "      <td>0</td>\n",
       "      <td>0</td>\n",
       "      <td>0</td>\n",
       "      <td>0</td>\n",
       "    </tr>\n",
       "    <tr>\n",
       "      <th>2</th>\n",
       "      <td>1</td>\n",
       "      <td>1</td>\n",
       "      <td>1</td>\n",
       "      <td>5612.123938</td>\n",
       "      <td>1</td>\n",
       "      <td>0</td>\n",
       "      <td>98</td>\n",
       "      <td>0</td>\n",
       "      <td>1</td>\n",
       "      <td>0</td>\n",
       "      <td>...</td>\n",
       "      <td>0</td>\n",
       "      <td>0</td>\n",
       "      <td>0</td>\n",
       "      <td>1</td>\n",
       "      <td>0</td>\n",
       "      <td>1</td>\n",
       "      <td>0</td>\n",
       "      <td>0</td>\n",
       "      <td>0</td>\n",
       "      <td>0</td>\n",
       "    </tr>\n",
       "    <tr>\n",
       "      <th>3</th>\n",
       "      <td>2</td>\n",
       "      <td>1</td>\n",
       "      <td>0</td>\n",
       "      <td>7957.267641</td>\n",
       "      <td>0</td>\n",
       "      <td>1</td>\n",
       "      <td>45</td>\n",
       "      <td>0</td>\n",
       "      <td>0</td>\n",
       "      <td>0</td>\n",
       "      <td>...</td>\n",
       "      <td>0</td>\n",
       "      <td>0</td>\n",
       "      <td>0</td>\n",
       "      <td>0</td>\n",
       "      <td>1</td>\n",
       "      <td>0</td>\n",
       "      <td>1</td>\n",
       "      <td>0</td>\n",
       "      <td>0</td>\n",
       "      <td>0</td>\n",
       "    </tr>\n",
       "    <tr>\n",
       "      <th>4</th>\n",
       "      <td>2</td>\n",
       "      <td>1</td>\n",
       "      <td>2</td>\n",
       "      <td>6232.195932</td>\n",
       "      <td>1</td>\n",
       "      <td>0</td>\n",
       "      <td>11</td>\n",
       "      <td>1</td>\n",
       "      <td>0</td>\n",
       "      <td>0</td>\n",
       "      <td>...</td>\n",
       "      <td>1</td>\n",
       "      <td>0</td>\n",
       "      <td>0</td>\n",
       "      <td>0</td>\n",
       "      <td>1</td>\n",
       "      <td>0</td>\n",
       "      <td>1</td>\n",
       "      <td>0</td>\n",
       "      <td>0</td>\n",
       "      <td>0</td>\n",
       "    </tr>\n",
       "  </tbody>\n",
       "</table>\n",
       "<p>5 rows × 68 columns</p>\n",
       "</div>"
      ],
      "text/plain": [
       "   accident_site  address_change_ind  channel  claim_est_payout  gender  \\\n",
       "0              0                   0        0       5196.552552       0   \n",
       "1              0                   1        1       7381.165248       0   \n",
       "2              1                   1        1       5612.123938       1   \n",
       "3              2                   1        0       7957.267641       0   \n",
       "4              2                   1        2       6232.195932       1   \n",
       "\n",
       "   high_education_ind  liab_prct  living_status  marital_status  \\\n",
       "0                   0         25              0               0   \n",
       "1                   0         50              0               0   \n",
       "2                   0         98              0               1   \n",
       "3                   1         45              0               0   \n",
       "4                   0         11              1               0   \n",
       "\n",
       "   past_num_of_claims     ...      vehicle_price_new_3  vehicle_price_new_4  \\\n",
       "0                   0     ...                        0                    0   \n",
       "1                   0     ...                        0                    0   \n",
       "2                   0     ...                        0                    0   \n",
       "3                   0     ...                        0                    0   \n",
       "4                   0     ...                        1                    0   \n",
       "\n",
       "   vehicle_price_new_5  IsWeekday_0  IsWeekday_1  age_of_vehicle_new_0  \\\n",
       "0                    0            1            0                     1   \n",
       "1                    0            1            0                     1   \n",
       "2                    0            1            0                     1   \n",
       "3                    0            0            1                     0   \n",
       "4                    0            0            1                     0   \n",
       "\n",
       "   age_of_vehicle_new_1  age_of_vehicle_new_2  age_of_vehicle_new_3  \\\n",
       "0                     0                     0                     0   \n",
       "1                     0                     0                     0   \n",
       "2                     0                     0                     0   \n",
       "3                     1                     0                     0   \n",
       "4                     1                     0                     0   \n",
       "\n",
       "   fraud_pred  \n",
       "0           0  \n",
       "1           0  \n",
       "2           0  \n",
       "3           0  \n",
       "4           0  \n",
       "\n",
       "[5 rows x 68 columns]"
      ]
     },
     "execution_count": 881,
     "metadata": {},
     "output_type": "execute_result"
    }
   ],
   "source": [
    "pred_final = xgb_model.predict(test_new_std)\n",
    "test_new['fraud_pred'] = pred_final\n",
    "test_new.head()"
   ]
  }
 ],
 "metadata": {
  "kernelspec": {
   "display_name": "Python 3",
   "language": "python",
   "name": "python3"
  },
  "language_info": {
   "codemirror_mode": {
    "name": "ipython",
    "version": 3
   },
   "file_extension": ".py",
   "mimetype": "text/x-python",
   "name": "python",
   "nbconvert_exporter": "python",
   "pygments_lexer": "ipython3",
   "version": "3.7.1"
  }
 },
 "nbformat": 4,
 "nbformat_minor": 2
}
